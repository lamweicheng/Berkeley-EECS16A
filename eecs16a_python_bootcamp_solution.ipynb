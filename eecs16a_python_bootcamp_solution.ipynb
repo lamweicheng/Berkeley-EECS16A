{
 "cells": [
  {
   "cell_type": "markdown",
   "metadata": {},
   "source": [
    "# EECS 16A Python Bootcamp\n",
    "### EECS 16A: Designing Information Devices and Systems I, Fall 2022\n",
    "\n",
    "<!---\n",
    "      Raghav Gupta (raghav.tech13@berkeley.edu)\n",
    "      Ayush Pancholy (ayush.pancholy@berkeley.edu)\n",
    "---->"
   ]
  },
  {
   "cell_type": "markdown",
   "metadata": {},
   "source": [
    "# Table of Contents\n",
    "* [Install Test](#install-test)\n",
    "* [Overview](#overview)\n",
    "* [Assistance](#questions)\n",
    "* [Python](#python)\n",
    "    * [Functions and Variables](#fnvar)\n",
    "    * [Control Flow](#ctrl)\n",
    "    * [List Comprehension](#lst)\n",
    "* [NumPy](#numpy)\n",
    "    * [Arrays](#arrays)\n",
    "    * [Slicing](#slice)\n",
    "    * [Useful Functions](#funcs)\n",
    "* [Miscellaneous Functions](#misc)\n",
    "* [Questions](#qs)\n",
    "* [Checkoff](#checkoff)"
   ]
  },
  {
   "cell_type": "markdown",
   "metadata": {},
   "source": [
    "<a id='install-test'></a>\n",
    "# Install Test\n",
    "\n",
    "Welcome to your first Jupyter Notebook for 16A! Before we dive into the content of this lab, we want to make sure that all necessary packages are installed correctly. \n",
    "\n",
    "Click on the block of code below (don't worry about what it does - we'll start covering that next lab) and press the Run button above to run it. Alternately, you can use `Shift + Enter` to execute and move to the next block, or `Control/Command + Enter` to execute and stay in the same block. \n",
    "\n",
    "If anything strange appears (most likely a jumbled mass of text that is an error message) call over your lab TA or one of your lab assistants and they should be able to help! **<span style=\"color:red\"> Warnings are fine, don't worry about those.</span>**\n",
    "\n",
    "### **<span style=\"color:red\">Run the code block below by clicking anywhere inside of it and pressing Shift + Enter</span>**"
   ]
  },
  {
   "cell_type": "code",
   "execution_count": null,
   "metadata": {},
   "outputs": [],
   "source": [
    "from __future__ import division\n",
    "import numpy as np\n",
    "import struct\n",
    "import time\n",
    "import warnings\n",
    "warnings.filterwarnings('ignore')\n",
    "import math\n",
    "from numpy.linalg import inv\n",
    "import struct\n",
    "from scipy import random\n",
    "import time\n",
    "import scipy\n",
    "from scipy import linalg\n",
    "import random\n",
    "import math\n",
    "from IPython import display\n",
    "from ipywidgets import interact, interactive, fixed, interact_manual\n",
    "import ipywidgets as widgets\n",
    "from IPython.display import display\n",
    "\n",
    "print(\"Congratulations! Your Install is great!\")"
   ]
  },
  {
   "cell_type": "markdown",
   "metadata": {},
   "source": [
    "<a id='overview'></a>\n",
    "# Overview\n",
    "\n",
    "This mini-lab serves as an introduction to Jupyter, Python and a couple important packages we will be using throughout the semester. The lab aims to teach you proper usage of certain commands and can serve as a reference doc in the future. Even if you are a Python wizard already, we recommend that you at least look through the lab and try a few of the later problems to get re-acquainted with the functions we will be frequently using in this course.\n",
    "\n",
    "This lab is separated into two main parts: Guide and Questions. The Guide portion walks you through frequently used Python code, functions, and techniques. The Guide is supplemented with numerous blocks of example code to showcase concepts. The Questions portion of the lab is a collection of 10 problems meant to test your understanding of this guide. If you can answer these questions, then you have the knowledge to complete any and all programming tasks in EECS 16A."
   ]
  },
  {
   "cell_type": "markdown",
   "metadata": {},
   "source": [
    "<a id='questions'></a>\n",
    "\n",
    "# Assistance\n",
    "Whenever you have a question, please raise your hand. A member of lab staff will join you shortly to help."
   ]
  },
  {
   "cell_type": "markdown",
   "metadata": {},
   "source": [
    "<a id='python'></a>\n",
    "# Python\n",
    "\n",
    "Both the labs and the homeworks in this course will require you to write some **Python** code. If you're new to programming, have no fear, as the assignments don't require more than just the fundamentals, which we will also go through during this lab; **this is not round 2 of 61A.**"
   ]
  },
  {
   "cell_type": "markdown",
   "metadata": {},
   "source": [
    "<a id='fnvar'></a>\n",
    "## Functions and Variables in Python\n",
    "\n",
    "A function is a set of statements that takes in optional inputs, runs those statements, and then returns optional data.\n",
    "\n",
    "Variables are containers for storing data values. These data values could be numbers, characters, words (called strings), etc. They can also point to lists or functions."
   ]
  },
  {
   "cell_type": "code",
   "execution_count": null,
   "metadata": {},
   "outputs": [],
   "source": [
    "simple_number = 6\n",
    "numbers = [1, 2, 3, 4, simple_number]  #this is a list\n",
    "\n",
    "add = sum(numbers)   #sum is a function that takes a list of numbers and returns their sum\n",
    "\n",
    "print(add)"
   ]
  },
  {
   "cell_type": "code",
   "execution_count": null,
   "metadata": {},
   "outputs": [],
   "source": [
    "letter = 'a'\n",
    "\n",
    "show = print   #this statement makes show point to the function print. Thus, show(param) will do the same thing as print(param)\n",
    "show(letter)"
   ]
  },
  {
   "cell_type": "markdown",
   "metadata": {},
   "source": [
    "We can write our own functions using the `def` keyword. "
   ]
  },
  {
   "cell_type": "code",
   "execution_count": null,
   "metadata": {},
   "outputs": [],
   "source": [
    "def welcome(name):\n",
    "    print(\"Welcome to 16A \" + name)\n",
    "\n",
    "welcome(\"your name here\")   #type your name inside the quotes"
   ]
  },
  {
   "cell_type": "markdown",
   "metadata": {},
   "source": [
    "<a id='ctrl'></a>\n",
    "## Control Flow in Python\n",
    "\n",
    "Programming languages usually contain statements that can be used to direct or \"control the flow\" of execution. This includes (but is not limited to) conditional statements such as `if`, `else`, and `elif`, and loop-control statements such as `while`, `for`, `break`, and `continue`. "
   ]
  },
  {
   "cell_type": "markdown",
   "metadata": {},
   "source": [
    "### Conditional Statements: (if, else, elif)\n",
    "\n",
    "These check for a condition and execute a set of statements accordingly."
   ]
  },
  {
   "cell_type": "code",
   "execution_count": null,
   "metadata": {},
   "outputs": [],
   "source": [
    "# Example 1: Simple if/else\n",
    "\n",
    "x = 16\n",
    "\n",
    "if x > 20: # Asking the question, \"Is x greater than 20?\"\n",
    "    print('if condition is True!')\n",
    "else:\n",
    "    print('if condition is False!')"
   ]
  },
  {
   "cell_type": "code",
   "execution_count": null,
   "metadata": {},
   "outputs": [],
   "source": [
    "# Example 2: Introducing elif\n",
    "\n",
    "x = 16\n",
    "\n",
    "if x > 20: # Asking the question, \"Is x greater than 20?\"\n",
    "    print('first if condition is True!')\n",
    "elif x > 10 and x < 20: # Asking the question, \"Is x greater than 10 AND less than 20?\"\n",
    "    print('first if condition is False and second if condition is True!')\n",
    "else:\n",
    "    print('Neither if condition was True!')"
   ]
  },
  {
   "cell_type": "markdown",
   "metadata": {},
   "source": [
    "### Loop-Control Statements: (while, for)\n",
    "\n",
    "These iterate over a set of statements a specified number times or as long as a specified condition is true."
   ]
  },
  {
   "cell_type": "code",
   "execution_count": null,
   "metadata": {},
   "outputs": [],
   "source": [
    "# Example 3: while\n",
    "\n",
    "i = 0\n",
    "while i < 5: # Check if i < 5 every iteration. Stop looping if the condition is false, i.e. if i >= 5.\n",
    "    print('i:',i)\n",
    "    i += 1 # increment i by 1"
   ]
  },
  {
   "cell_type": "markdown",
   "metadata": {},
   "source": [
    "Unlike while loops, which can theoretically run \"forever\" given the right condition, for loops serve a different purpose -- iterating a fixed number of times. For loops in Python expect an iterable object -- something similar to a list -- to control the number of iterations. The example below is \"equivalent\" to the while loop in the previous example."
   ]
  },
  {
   "cell_type": "code",
   "execution_count": null,
   "metadata": {},
   "outputs": [],
   "source": [
    "# Example 4: for (pun intended)\n",
    "\n",
    "for i in range(0,5): # read about range() here: http://pythoncentral.io/pythons-range-function-explained/ . \n",
    "    print('i:',i)\n",
    "\n",
    "# Notice no i += 1 statement!"
   ]
  },
  {
   "cell_type": "code",
   "execution_count": null,
   "metadata": {},
   "outputs": [],
   "source": [
    "# Example 5: Iterating through lists\n",
    "\n",
    "char_list = [1, 6, 'a']\n",
    "word = ''\n",
    "\n",
    "for element in char_list:\n",
    "    word += str(element)   \n",
    "\n",
    "print('word:',word)"
   ]
  },
  {
   "cell_type": "markdown",
   "metadata": {},
   "source": [
    "All of the loop examples so far have terminated with some sort of stopping condition (ex. i < 5, i in range(0,5), element in char_list). But what if we wanted to exit a loop early? Or, what if we wanted to immediately go to the next loop iteration? These two changes can be applied using the **break** and **continue** statements, respectively.\n",
    "\n",
    "**break** will completely break out of the `for` or `while` loop it is in and skip any iterations it would have potentially gone through afterwards.\n",
    "\n",
    "**continue** will skip only the current iteration and jump to the beginning of the next one."
   ]
  },
  {
   "cell_type": "code",
   "execution_count": null,
   "metadata": {},
   "outputs": [],
   "source": [
    "# Example 6: The break statement\n",
    "\n",
    "candies = ['Skittles', 'Snickers', '3 Musketeers', 'Twizzlers', 'Kit-Kat', 'Twix', 'Almond Joy']\n",
    "\n",
    "print('Loop without break statement.')\n",
    "for candy in candies:\n",
    "    print(candy)\n",
    "\n",
    "print('\\nLoop with break statement.')    # '\\n' denotes a new line \n",
    "for candy in candies:\n",
    "    print(candy)\n",
    "    if candy == 'Kit-Kat':\n",
    "        break"
   ]
  },
  {
   "cell_type": "code",
   "execution_count": null,
   "metadata": {},
   "outputs": [],
   "source": [
    "# Example 7: The continue statement\n",
    "\n",
    "candies = ['Skittles', 'Snickers', '3 Musketeers', 'Twizzlers', 'Kit-Kat', 'Twix', 'Almond Joy']\n",
    "\n",
    "print('Same Loop as above but with continue instead of break statement.')\n",
    "for candy in candies:\n",
    "    print(candy)\n",
    "    if candy == 'Kit-Kat':\n",
    "        continue\n",
    "\n",
    "print('\\nLoop that skips over every-other candy.')\n",
    "for i in range(len(candies)):\n",
    "    if i % 2 == 1: # if i is odd. The \"%\" symbol is the modulo operator: https://en.wikipedia.org/wiki/Modulo_operation\n",
    "        continue\n",
    "    print(candies[i])"
   ]
  },
  {
   "cell_type": "markdown",
   "metadata": {},
   "source": [
    "In the first loop, the `continue` statement is at the end of the loop and will not skip anything, thus printing all the candies. However, in the second loop, the `continue` will potentially skip over the print statement. **Notice how the continue statement enabled us to skip over every other candy.**"
   ]
  },
  {
   "cell_type": "markdown",
   "metadata": {},
   "source": [
    "<a id='lst'></a>\n",
    "## List Comprehension\n",
    "\n",
    "There are multiple ways of creating lists in Python. If you recall from the first discussion, a list is a mutable array of data. They can be created using square brackets [ ]. Elements in a list are separated by commas. Elements can be of any type (int, string, float, etc.).\n",
    "\n",
    "Important Python List functions: \n",
    "\n",
    "- `'+'` joins lists and creates a *new* list. \n",
    "\n",
    "- `len(x)` to get the length of list `x`\n",
    "\n",
    "\n",
    "Next, we will explore the idea of list comprehension, which is a compact way of creating a list from a for-loop in a single line. Please keep in mind that list comprehension is just a style suggestion; any list comprehension can be expanded to a fully fleshed out control-loop block. However, the advantage of list comprehensions is their compact yet expressive syntax.\n",
    "\n",
    "\n",
    "**For the example below, our goal is to create a list of the squares of each even integer in the range from 0 to 10 (inclusive).**"
   ]
  },
  {
   "cell_type": "code",
   "execution_count": null,
   "metadata": {},
   "outputs": [],
   "source": [
    "# Example 8a: for-loop list construction\n",
    "\n",
    "# Expected output: [0*0, 2*2, 4*4, 6*6, 8*8, 10*10], which equals: [0, 4, 16, 36, 64, 100]\n",
    "\n",
    "lst = []\n",
    "for i in range(11): # iterate over numbers 0 through 10 (inclusive)\n",
    "    if i % 2 == 0: # see example 7 for explanation of \"%\" symbol.\n",
    "        lst += [i**2] # '**' is Python syntax for raising the power. Alternatively: lst.append(i**2)\n",
    "\n",
    "print(lst)"
   ]
  },
  {
   "cell_type": "code",
   "execution_count": null,
   "metadata": {},
   "outputs": [],
   "source": [
    "# Example 8b: List Comprehension\n",
    "\n",
    "lst = [i**2 for i in range(11) if i % 2 == 0] # one-liner magic\n",
    "print(lst)"
   ]
  },
  {
   "cell_type": "markdown",
   "metadata": {},
   "source": [
    "The syntax for a list comprehension is as follows:<br>\n",
    "**list = <span style=\"color:green\">[</span>**<span style=\"color:red\">function(</span>**ITEM**<span style=\"color:red\">)</span> **<span style=\"color:green\">for</span>** **ITEM** **<span style=\"color:green\">in</span>** <span style=\"color:orange\">ITERABLE_OBJECT</span> **<span style=\"color:green\">if</span>** <span style=\"color:blue\">condition(</span>**ITEM**<span style=\"color:blue\">)</span>**<span style=\"color:green\">]</span>**\n",
    "\n",
    "In example 8b above:<br>\n",
    "- **ITEM** = i<br>\n",
    "- <span style=\"color:orange\">ITERABLE_OBJECT</span> = range(11)<br>\n",
    "- <span style=\"color:red\">function()</span> = raise **ITEM** to the second power<br>\n",
    "- <span style=\"color:blue\">condition()</span> = is **ITEM** even?<br>\n",
    "\n",
    "A couple notes: \n",
    "- list comprehensions DO NOT require a function or condition\n",
    "- list comprehensions can have nested for-loops"
   ]
  },
  {
   "cell_type": "markdown",
   "metadata": {},
   "source": [
    "<a id='numpy'></a>\n",
    "# NumPy\n",
    "\n",
    "### Pronounced NumPIE\n",
    "\n",
    "From the NumPy website, \"NumPy is the fundamental package for scientific computing with Python. It contains among other things: a powerful N-dimensional array object.\" For the purposes of this course, we primarily use NumPy for its fast and fancy matrix functions. In general, Python list operations are slow; NumPy functions exploit the NumPy array object to \"vectorize\" the code, which usually improves the runtime of matrix calculations. **As a general rule of thumb, if a task involves vectors or matrices, you should resort to NumPy.** In addition to speeding up basic operations, NumPy contains an enormous library of matrix functions, so if you ever need to manipulate a vector or matrix, NumPy most likely already has a function implemented to suit your needs.\n",
    "\n",
    "**Quintessential NumPy Documentation: http://docs.scipy.org/doc/numpy/reference/index.html**"
   ]
  },
  {
   "cell_type": "markdown",
   "metadata": {},
   "source": [
    "**<span style=\"color:red\">Run the cell below to import the packages needed to complete this lab.</span>**"
   ]
  },
  {
   "cell_type": "code",
   "execution_count": null,
   "metadata": {},
   "outputs": [],
   "source": [
    "import numpy as np # from now on, we can access numpy functions by referencing \"np\" instead of numpy"
   ]
  },
  {
   "cell_type": "markdown",
   "metadata": {},
   "source": [
    "<a id='arrays'></a>\n",
    "## Creating a NumPy array object\n",
    "\n",
    "NumPy is centered around the `numpy.array()` class. This array object is extremely useful, however, it is often confused with built-in Python lists, particularly when trying to represent vectors. NumPy arrays and Python Lists are NOT synonymous; you **cannot** simply apply functions to NumPy arrays as if they were Python Lists."
   ]
  },
  {
   "cell_type": "code",
   "execution_count": null,
   "metadata": {},
   "outputs": [],
   "source": [
    "# Example 9: Going from Python list to NumPy array\n",
    "\n",
    "py_lst = [1,2,3,4]\n",
    "np_arr = np.array(py_lst)\n",
    "print('Python list:',py_lst)\n",
    "print('NumPy array:',np_arr)"
   ]
  },
  {
   "cell_type": "code",
   "execution_count": null,
   "metadata": {},
   "outputs": [],
   "source": [
    "# Example 10: Populating an empty NumPy array\n",
    "\n",
    "np_arr = np.empty([4,4], dtype=np.int) # Creates an empty 4x4 numpy array. dtype specifies the data type as integer here\n",
    "for i in range(4):\n",
    "    for j in range(4):\n",
    "        np_arr[i,j] = i+j\n",
    "\n",
    "print(np_arr)"
   ]
  },
  {
   "cell_type": "code",
   "execution_count": null,
   "metadata": {},
   "outputs": [],
   "source": [
    "# Example 11: Creating a NumPy array of zeros and the Identity matrix\n",
    "\n",
    "np_zeros = np.zeros([5,5]) # 5x5 NumPy array of all zeros\n",
    "np_id = np.eye(5) # 5x5 Identity array\n",
    "\n",
    "print('np_zeros:\\n',np_zeros)\n",
    "print('\\nnp_id:\\n',np_id)"
   ]
  },
  {
   "cell_type": "code",
   "execution_count": null,
   "metadata": {},
   "outputs": [],
   "source": [
    "# Example 12: Creating a NumPy array that spans a certain set/list of numbers\n",
    "\n",
    "\"\"\"numpy.linspace() is useful when you know the number of divisions over a certain range you want, \n",
    "i.e., you want to divide the range [0-9] into 10 equal divisions.\n",
    "\"\"\"\n",
    "np_arr1 = np.linspace(0, 9, 10) # args for linspace(): (start, stop, num_divisions)\n",
    "print('np_arr1:',np_arr1)\n",
    "\n",
    "\n",
    "\"\"\"numpy.arange() is useful when you know how far away each division is from one another, a.k.a. the step size.\n",
    "You want to start at 0 and get every number that is 1 away from the previous number until you get to 9.\n",
    "\"\"\"\n",
    "np_arr2 = np.arange(0, 10, 1) # args for arange(): (start, stop, step)\n",
    "print('np_arr2:',np_arr2)"
   ]
  },
  {
   "cell_type": "markdown",
   "metadata": {},
   "source": [
    "**Note:** Dimensions in NumPy are always provided as a list/tuple. You should be able to see this in the usage of functions such as `zeros`, `empty`, `ones`, `reshape`, etc."
   ]
  },
  {
   "cell_type": "markdown",
   "metadata": {},
   "source": [
    "### NumPy array vs. Python list\n",
    "\n",
    "Most arithmetic operations apply to NumPy arrays in element-wise fashion. This is in contrast with arithmetic operations for Python lists, which apply via concatenation."
   ]
  },
  {
   "cell_type": "code",
   "execution_count": null,
   "metadata": {},
   "outputs": [],
   "source": [
    "# Example 13: NumPy array vs. Python list\n",
    "\n",
    "lst = [1,2,3]\n",
    "arr = np.eye(3)\n",
    "\n",
    "lst2 = lst + lst\n",
    "arr2 = arr + arr\n",
    "\n",
    "print('lst:',lst)\n",
    "print('lst + lst =',lst2)\n",
    "print('\\narr:\\n',arr)\n",
    "print('arr + arr =\\n',arr2)"
   ]
  },
  {
   "cell_type": "markdown",
   "metadata": {},
   "source": [
    "<a id='slice'></a>\n",
    "## NumPy array slicing\n",
    "\n",
    "Array slicing is a technique in Python (and other languages) that programmers use to extract specific index-based information from an array. Array slicing answers queries such as, \"What are the first/last n elements in this array?\", \"What are the elements in the first r rows and first c columns of this matrix?\", \"What is every nth element in this array?\""
   ]
  },
  {
   "cell_type": "code",
   "execution_count": null,
   "metadata": {},
   "outputs": [],
   "source": [
    "# Example 14: Basic vector/list slicing\n",
    "\n",
    "simple_arr = np.arange(0,100,1)\n",
    "\n",
    "print('\\nFirst ten elements of simple_arr:',simple_arr[:10])\n",
    "print('\\nLast ten elements of simple_arr:',simple_arr[-10:]) # you should be aware that in Python, \n",
    "# requesting a negative index (-n) from list a is the same as requesting is equivalent to requesting a[len(a)-n].\n",
    "print('\\nElements 16-25 of simple_arr:',simple_arr[16:26]) # Notice slicing includes the first index and excludes that last index."
   ]
  },
  {
   "cell_type": "markdown",
   "metadata": {},
   "source": [
    "**<span style=\"color:red\">Slicing includes the start index and excludes the end index, i.e. `simple_arr[16:26]` means to extract the values in `simple_arr` at indices in the range `[16,26)` which is the same as `[16,25]` since indices can only be integers.</span>**"
   ]
  },
  {
   "cell_type": "code",
   "execution_count": null,
   "metadata": {},
   "outputs": [],
   "source": [
    "# Example 15: Some fancy vector/list slicing\n",
    "\n",
    "simple_arr = np.arange(0,20,1)\n",
    "\n",
    "print('\\nEvery-other element of simple_arr, starting from 0:',simple_arr[::2])\n",
    "print('\\nEvery-third element of simple_arr, starting from 0:',simple_arr[::3])\n",
    "print('\\nEvery-other element of simple_arr, starting from 10-16:',simple_arr[10:16:2])"
   ]
  },
  {
   "cell_type": "code",
   "execution_count": null,
   "metadata": {},
   "outputs": [],
   "source": [
    "# Example 16: Slicing NumPy arrays\n",
    "\n",
    "i = np.array(range(25), dtype=np.int).reshape([5,5]) # numpy.reshape() will be introduced in Example 18\n",
    "print('i:\\n',i)\n",
    "\n",
    "print('\\nFirst row of i:',i[0])\n",
    "print('\\nFirst column of i:',i[:,0])    # this includes all rows in column 0 of i \n",
    "print('\\nRows 1-3 of i:\\n',i[1:4])\n",
    "print('\\nColumns 1-3 of i:\\n',i[:,1:4])\n",
    "print('\\nTop left 3x3 of i:\\n',i[:3,:3])\n",
    "print('\\nEvery-other column of i:\\n',i[:,::2])"
   ]
  },
  {
   "cell_type": "code",
   "execution_count": null,
   "metadata": {},
   "outputs": [],
   "source": [
    "# Example 17: Slice Assignment \n",
    "\n",
    "j = np.zeros([5,5])   #5x5 NumPy array of all zeros\n",
    "print('j (5x5 NumPy array of all zeros):\\n',j)\n",
    "\n",
    "inner = np.ones([3, 3])   #3x3 Numpy array of all ones\n",
    "print('\\ninner (3x3 Numpy array of all ones):\\n',inner)\n",
    "\n",
    "j[1:4, 1:4] = inner   #Assigning inner to a particular part/slice of j\n",
    "print('\\nj:\\n',j)\n",
    "print('\\n Notice how the values of inner are assigned to the 3x3 slice at the center of j!')"
   ]
  },
  {
   "cell_type": "markdown",
   "metadata": {},
   "source": [
    "### Slicing Summary\n",
    "\n",
    "Slicing a NumPy array arr follows the syntax below:<br> <br>\n",
    "arr[<span style=\"color:green\">row_start_index</span><span style=\"color:blue\">:</span><span style=\"color:red\">row_end_index</span><span style=\"color:blue\">:</span><span style=\"color:orange\">row_step_size</span> , <span style=\"color:green\">col_start_index</span><span style=\"color:blue\">:</span><span style=\"color:red\">col_end_index</span><span style=\"color:blue\">:</span><span style=\"color:orange\">col_step_size</span>]\n",
    " \n",
    "- <span style=\"color:green\">start indices</span> are inclusive and default to 0\n",
    "- <span style=\"color:red\">end indices</span> are exclusive and default to len(arr)\n",
    "- <span style=\"color:orange\">step sizes</span> default to 1\n",
    "\n",
    "arr[<span style=\"color:green\">start_index</span><span style=\"color:blue\">:</span><span style=\"color:red\">end_index</span><span style=\"color:blue\">:</span><span style=\"color:orange\">step_size</span>] slices rows according to the specified arguments while selecting all columns.\n",
    "\n",
    "arr[ : , <span style=\"color:green\">start_index</span><span style=\"color:blue\">:</span><span style=\"color:red\">end_index</span><span style=\"color:blue\">:</span><span style=\"color:orange\">step_size</span>] slices columns according to the specified arguments while selecting all rows."
   ]
  },
  {
   "cell_type": "markdown",
   "metadata": {},
   "source": [
    "### NumPy array reshaping\n",
    "\n",
    "Reshaping is useful when you want to do something such as turn a vector into a matrix or vice-versa. We want to be able to do this because it is often easier to construct the desired array as a vector then reshape the vector into a matrix."
   ]
  },
  {
   "cell_type": "code",
   "execution_count": null,
   "metadata": {},
   "outputs": [],
   "source": [
    "# Example 18: Determining the shape of a NumPy array\n",
    "\n",
    "test_arr = np.zeros([15,189])\n",
    "\n",
    "print('Shape of test_arr:',test_arr.shape) # Notice .shape is a NumPy array property NOT a function, i.e. no parenthesis.\n",
    "print('Rows in test_arr:', test_arr.shape[0]) # .shape returns a tuple, so we can index into it to find number of rows/cols\n",
    "print('Cols in test_arr:', test_arr.shape[1])\n",
    "print('Number of elements in test_arr:',test_arr.size)"
   ]
  },
  {
   "cell_type": "code",
   "execution_count": null,
   "metadata": {},
   "outputs": [],
   "source": [
    "# Example 19: Using reshape()\n",
    "\n",
    "test_arr = np.array(range(16), dtype=np.int)\n",
    "print('\\ntest_arr:',test_arr)\n",
    "print('Shape of test_arr:',test_arr.shape)\n",
    "\n",
    "test_arr_4x4 = test_arr.reshape([4,4]) # Notice reshape() is called on the array object, i.e. array.reshape(dimensions) NOT np.reshape(arr, dimensions)!\n",
    "print('\\nReshaped test_arr:\\n',test_arr_4x4)\n",
    "print('Shape of test_arr_4x4:',test_arr_4x4.shape)\n",
    "\n",
    "test_arr_vec = test_arr_4x4.reshape(test_arr_4x4.size) # Use array.flatten() instead. This is just to show array.reshape works in both directions.\n",
    "print('\\ntest_arr back as a vector:',test_arr_vec)\n",
    "print('Shape of test_arr_vec:',test_arr_vec.shape)"
   ]
  },
  {
   "cell_type": "markdown",
   "metadata": {},
   "source": [
    "<a id='funcs'></a>\n",
    "## Useful NumPy functions: (transpose(), linalg.inv(), dot(), concatenate(), vstack(), hstack(), max(), argmax())\n",
    "\n",
    "**Quintessential NumPy Documentation: http://docs.scipy.org/doc/numpy/reference/index.html**"
   ]
  },
  {
   "cell_type": "code",
   "execution_count": null,
   "metadata": {},
   "outputs": [],
   "source": [
    "# Example 20: numpy.transpose()\n",
    "\n",
    "norm = np.array(range(16), dtype=np.int).reshape([4,4])\n",
    "print('\\nnorm:\\n',norm)\n",
    "\n",
    "norm_transpose = np.transpose(norm)\n",
    "print('\\nnorm_transpose:\\n',norm_transpose)\n",
    "\n",
    "print('\\nnorm easy transpose:\\n',norm.T) # numpy.transpose(arr) == arr.T"
   ]
  },
  {
   "cell_type": "code",
   "execution_count": null,
   "metadata": {},
   "outputs": [],
   "source": [
    "# Example 21: numpy.linalg.inv (finds the inverse of a matrix)\n",
    "\n",
    "i = np.eye(4)\n",
    "print('\\ni:\\n',i)\n",
    "\n",
    "i_inv = np.linalg.inv(i) # Notice .inv() is a function in the linalg library of NumPy.\n",
    "print('\\ni_inv:\\n',i_inv)\n",
    "print('\\nAs expected, i == inv(i).') \n",
    "\n",
    "j = np.array([[0, 1, 0, 0],\n",
    "              [2, 0, 0, 0],\n",
    "              [0, 0, 0, 3],\n",
    "              [0, 0, 4, 0]])\n",
    "\n",
    "print('\\nj:\\n',j)\n",
    "\n",
    "j_inv = np.linalg.inv(j) \n",
    "print('\\nj_inv:\\n',j_inv)\n",
    "print('\\nMultiplying an invertible matrix with its inverse gives us the identity matrix.\\n')\n",
    "print('\\nj*inv(j):\\n', np.dot(j, j_inv))\n",
    "print('\\nThus, as expected, j*inv(j) == i.') "
   ]
  },
  {
   "cell_type": "code",
   "execution_count": null,
   "metadata": {},
   "outputs": [],
   "source": [
    "# Example 22: numpy.dot() (how to do matrix multiplication in NumPy!)\n",
    "\n",
    "a = np.array([[2,3],[4,5]])\n",
    "print('\\na:\\n',a)          \n",
    "b = np.array([[1,2],[0,2]])\n",
    "print('\\nb:\\n',b)\n",
    "\n",
    "print('\\nMatrix multiplication.')\n",
    "c = np.dot(a,b)\n",
    "print('a*b:\\n',c)\n",
    "\n",
    "print('\\nOrder matters in numpy.dot()!')\n",
    "d = np.dot(b,a)\n",
    "print('b*a:\\n',d)\n",
    "print('Notice a*b != b*a.')\n",
    "\n",
    "print('\\nNesting numpy.dot() to perform repeated multiplication.')\n",
    "e = np.dot(b, np.dot(b, a))   # this is equivalent to d = np.dot(b,a) followed by e = np.dot(b, d)   \n",
    "print('b*b*a:\\n', e)\n",
    "\n",
    "f = np.array([2,2])\n",
    "print('\\nf:',f)\n",
    "\n",
    "print('\\nnumpy.dot() can be used to multiply an array and vector too.')\n",
    "g = np.dot(a,f)\n",
    "print('a*f:',g)"
   ]
  },
  {
   "cell_type": "code",
   "execution_count": null,
   "metadata": {},
   "outputs": [],
   "source": [
    "# Example 23: numpy.concatenate() (how to append/attach multiple arrays.)\n",
    "\n",
    "a = np.array([[2,3],[4,5]])\n",
    "print('\\na:\\n',a)\n",
    "b = np.array([[1,2],[0,2]])\n",
    "print('\\nb:\\n',b)\n",
    "\n",
    "c = np.concatenate([a,b], axis=0) # axis controls how to concatenate the arrays. axis=0 attach vertically, axis=1 attach horizontally.\n",
    "print('\\nAppend b to the \"bottom\" of a:\\n',c)\n",
    "\n",
    "d = np.concatenate([a,b], axis=1) # note that concatenate uses a list (or tuple) of arrays\n",
    "print('\\nAppend b to the \"right\" of a:\\n',d)"
   ]
  },
  {
   "cell_type": "code",
   "execution_count": null,
   "metadata": {},
   "outputs": [],
   "source": [
    "# Example 24: numpy.vstack() and numpy.hstack()\n",
    "\n",
    "a = np.array([[2,3],[4,5]])\n",
    "print('\\na:\\n',a)\n",
    "b = np.array([[1,2],[0,2]])\n",
    "print('\\nb:\\n',b)\n",
    "\n",
    "c = np.vstack([a,b]) # note that vstack uses a list (or tuple) of arrays\n",
    "print('\\nvstack a and b:\\n',c)\n",
    "print('Notice this is equivalent to concatenate with axis=0.')\n",
    "\n",
    "d = np.hstack([a,b]) # note that hstack uses a list (or tuple) of arrays\n",
    "print('\\nhstack a and b:\\n',d)\n",
    "print('Notice this is equivalent to concatenate with axis=1.')"
   ]
  },
  {
   "cell_type": "markdown",
   "metadata": {},
   "source": [
    "<a id='misc'></a>\n",
    "# Miscellaneous Functions"
   ]
  },
  {
   "cell_type": "code",
   "execution_count": null,
   "metadata": {},
   "outputs": [],
   "source": [
    "# Example 25: np.floor(), np.ceil()\n",
    "\n",
    "a = 16.5\n",
    "print('a:',a)\n",
    "print('floor of a:',np.floor(a))\n",
    "print('ceiling of a:',np.ceil(a))"
   ]
  },
  {
   "cell_type": "code",
   "execution_count": null,
   "metadata": {},
   "outputs": [],
   "source": [
    "# Example 26: np.max(), np.min(), np.argmax(), np.argmin()\n",
    "\n",
    "a = np.array([0,1,2,3,16,3,2,1,0])\n",
    "print('a:',a)\n",
    "print('max of a =',np.max(a))\n",
    "print('min of a =',np.min(a))\n",
    "print('index of max value of a =',np.argmax(a))\n",
    "print('index of min value of a =',np.argmin(a))"
   ]
  },
  {
   "cell_type": "markdown",
   "metadata": {},
   "source": [
    "<a id='qs'></a>\n",
    "# Questions\n",
    "\n",
    "These questions are in no particular order (except for question 0, do that one first). The questions range in difficulty; some are one-liners, others require a lot more thinking. Don't be discouraged if you hit a roadblock. Talk to your neighbors and ask for help from the lab staff.\n",
    "\n",
    "**<span style=\"color:red\">You are not expected to get all of the questions correct in the first try. This is not a Python course, and the questions here are a lot harder than what you will see in future labs. This notebook is just to provide a quick introduction to Python and Juypter Notebooks and for you to have something to refer back to.</span>**\n",
    "\n",
    "### Question 0\n",
    "**<span style=\"color:red\">In order to test your code, plase run the cell below to load the autograder. There is a cell after each question that you can run in order to check your answer. The autograder is purposefully not very verbose.</span>**"
   ]
  },
  {
   "cell_type": "code",
   "execution_count": null,
   "metadata": {},
   "outputs": [],
   "source": [
    "%run autograder.py"
   ]
  },
  {
   "cell_type": "markdown",
   "metadata": {},
   "source": [
    "### Question 1 (Difficulty: 1)\n",
    "**<span style=\"color:red\">Search the NumPy documentation and/or the web for a NumPy function that can solve a system of linear equations of the form `Ax=b`. Once you've found the package and function, insert into the `func` placeholder below. Often Googling `Numpy` followed by the function you'd like will give you exactly what you want. Ex: Try searching `Numpy Matrix Solver`</span>**"
   ]
  },
  {
   "cell_type": "code",
   "execution_count": null,
   "metadata": {},
   "outputs": [],
   "source": [
    "# find the missing package/function\n",
    "func = np.linalg.solve # YOUR CODE HERE\n",
    "\n",
    "# Do not modify the code below\n",
    "def q1(A,b):\n",
    "    return func(A,b)"
   ]
  },
  {
   "cell_type": "code",
   "execution_count": null,
   "metadata": {},
   "outputs": [],
   "source": [
    "test_q1(q1)"
   ]
  },
  {
   "cell_type": "markdown",
   "metadata": {},
   "source": [
    "### Question 2 (Difficulty: 1)\n",
    "**<span style=\"color:red\">Given NumPy array A, return an array that consists of every entry of A that has an even row index and an odd column index. </span>**\n",
    "\n",
    "See [slicing](#slice) for examples on how to do array slicing."
   ]
  },
  {
   "cell_type": "code",
   "execution_count": null,
   "metadata": {},
   "outputs": [],
   "source": [
    "def q2(A):\n",
    "    \"\"\"\n",
    "    Input:\n",
    "    A - MxN NumPy array\n",
    "    \n",
    "    Output:\n",
    "    Returns an NumPy array that consists of every entry of A that has an even row index and has an odd column index.\n",
    "    \n",
    "    Example:\n",
    "    A = np.array([[ 1, 2, 3, 4, 5]\n",
    "                  [ 6, 7, 8, 9,10]\n",
    "                  [11,12,13,14,15]\n",
    "                  [16,17,18,19,20]\n",
    "                  [21,22,23,24,25]])\n",
    "    \n",
    "    Output = np.array([[ 2, 4]\n",
    "                       [12,14]\n",
    "                       [22,24]])\n",
    "    \"\"\"\n",
    "    \n",
    "    # YOUR CODE HERE\n",
    "  \n",
    "    \"\"\"\n",
    "    Recall the syntax for array slicing: \n",
    "    \n",
    "        A[starting_row: ending_row: #rows_to_skip, starting_column: ending_column: #columns_to_skip]\n",
    "        \n",
    "    * Default start row/column = 0\n",
    "    * Default end row/column = last \n",
    "    \n",
    "    Starting with row 0 and skipping 2 rows each time gives us rows 0, 2, 4 ... \n",
    "    Starting with column 1 and skipping 2 rows each time gives us columns 1, 3, 5 ...\n",
    "    \n",
    "    Note: A[::2, 1::2] is equivalent to A[0::2, 1::2]\n",
    "    \"\"\"\n",
    "    \n",
    "    return A[::2,1::2]\n",
    "    "
   ]
  },
  {
   "cell_type": "code",
   "execution_count": null,
   "metadata": {},
   "outputs": [],
   "source": [
    "test_q2(q2)"
   ]
  },
  {
   "cell_type": "markdown",
   "metadata": {},
   "source": [
    "### Question 3 (Difficulty: 2)\n",
    "**<span style=\"color:red\">Given an MxN NumPy array, first find the indices of the maximum value in each row of the array, then return the maximum index.</span>**\n",
    "\n",
    "Hint: There is a function to find the index of the maximum value in a vector.\n",
    "\n",
    "Hint 2: [List Comprehensions](#lst) might be useful."
   ]
  },
  {
   "cell_type": "code",
   "execution_count": null,
   "metadata": {},
   "outputs": [],
   "source": [
    "def q3(A):\n",
    "    \"\"\"\n",
    "    Input:\n",
    "    A - MxN NumPy array\n",
    "    \n",
    "    Output:\n",
    "    For each row in A, determine the index corresponding to its maximum value. Then, return the greatest such index.\n",
    "    \n",
    "    Example:\n",
    "    A = np.array([[0, 1, 0, 0]\n",
    "                  [1, 0, 0, 0]\n",
    "                  [0, 0, 0, 0]\n",
    "                  [0, 0, 1, 0]])\n",
    "    \n",
    "    Output = 2\n",
    "    \n",
    "    In row 0, we have maximum value 1 at index 1.\n",
    "    In row 1, we have maximum value 1 at index 0.\n",
    "    In row 2, we have maximum value 0 at index 0 (since that's the first occurence of 0).\n",
    "    In row 3, we have maximum value 1 at index 2.\n",
    "    Thus, the output should be the maximum index, which is 2.\n",
    "    \n",
    "    \"\"\"\n",
    "    \n",
    "    # YOUR CODE HERE\n",
    "    \n",
    "    \"\"\"\n",
    "    Step 1: Find indices of the maximum value in each row of the array - use np.argmax() \n",
    "        We can create a new Python list that stores the maximum indices for each row \n",
    "        \n",
    "    Step 2: Find the maximum in this newly created list - use max()\n",
    "    \n",
    "    Note: getting the dimensions of A\n",
    "    * np.shape(A) returns a tuple of the form (#rows, #columns)\n",
    "    * A.shape also returns a tuple of the form (#rows, #columns)\n",
    "    * len(A) returns the number of rows in A\n",
    "    * len(A[0]) returns the number of columns in A\n",
    "    \n",
    "    \"\"\"\n",
    "    \n",
    "    # Solution 1:   \n",
    "    \"\"\"\n",
    "    max_indices = []\n",
    "\n",
    "    for i in range(np.shape(A)[0]):\n",
    "        ith_row = A[i]\n",
    "        max_indices.append(np.argmax(ith_row))\n",
    "    return max(max_indices)\n",
    "    \"\"\"\n",
    "    \n",
    "    # Solution 2: a more compact version \n",
    "    max_indices = [np.argmax(A[i]) for i in range(np.shape(A)[0])]\n",
    "    return max(max_indices)\n",
    "    "
   ]
  },
  {
   "cell_type": "code",
   "execution_count": null,
   "metadata": {},
   "outputs": [],
   "source": [
    "test_q3(q3)"
   ]
  },
  {
   "cell_type": "markdown",
   "metadata": {},
   "source": [
    "### Question 4 (Difficulty: 2)\n",
    "**<span style=\"color:red\">Given two MxN NumPy arrays, copy every-other column of array A to the right side of array B. </span>**\n",
    "\n",
    "See [slicing](#slice) for examples on how to do array slicing.\n",
    "\n",
    "Hint: Are there any [useful functions](#funcs) you can use to horizontally stack arrays?"
   ]
  },
  {
   "cell_type": "code",
   "execution_count": null,
   "metadata": {},
   "outputs": [],
   "source": [
    "def q4(A, B):\n",
    "    \"\"\"\n",
    "    Inputs:\n",
    "    A - MxN NumPy array\n",
    "    B - MxP NumPy array\n",
    "    \n",
    "    Output:\n",
    "    Returns an Mx(P+(N/2)) NumPy array where every-other column of A is added to the right side of B in order, \n",
    "    starting from index 0.\n",
    "    \n",
    "    Example:\n",
    "    A = np.array([[1,0,0,2]\n",
    "                  [0,1,0,2]\n",
    "                  [0,0,1,2]])\n",
    "    B = np.array([[1,2,3]\n",
    "                  [4,5,6]\n",
    "                  [7,8,9]])\n",
    "\n",
    "    Output = np.array([[1,2,3,1,0]\n",
    "                       [4,5,6,0,0]\n",
    "                       [7,8,9,0,1]])\n",
    "    \"\"\"\n",
    "    \n",
    "    # YOUR CODE HERE\n",
    "    \n",
    "    \"\"\"\n",
    "    Step 1: create a temporary matrix storing every-other column of A - using array slicing\n",
    "    \n",
    "    Step 2: append the temporary matrix to the right side of B - use np.concatenate(), or np.hstack()\n",
    "    \"\"\"\n",
    "    \n",
    "    # Solution 1:\n",
    "    \"\"\"\n",
    "    #Note: A[:, 0::2] is equivalent to A[0::1, 0::2]\n",
    "\n",
    "    every_other_col_A = A[:, 0::2]\n",
    "    return np.hstack((B, every_other_col_A))\n",
    "    \"\"\"\n",
    "    \n",
    "    # Solution 2: a more compact version\n",
    "    \n",
    "    return np.hstack((B, A[:, 0::2]))\n",
    "    \n",
    "    # Solution 3: using np.concatenate()\n",
    "    \"\"\"\n",
    "    return np.concatenate((B, A[:,::2]), axis=1)\n",
    "    \"\"\"\n",
    "    "
   ]
  },
  {
   "cell_type": "code",
   "execution_count": null,
   "metadata": {},
   "outputs": [],
   "source": [
    "test_q4(q4)"
   ]
  },
  {
   "cell_type": "markdown",
   "metadata": {},
   "source": [
    "### Question 5 (Difficulty: 2)\n",
    "**<span style=\"color:red\">For any given N, u = [1,2,3,...,N] and v = [2017,2018,2019,...,2017+N-1]. Write a function that returns a vector that contains the following sequence: [1`*`2017, 2`*`2018, 3`*`2019,...,N`*`(2017+N-1)]. </span>**\n",
    "\n",
    "Hint: You might want to create vectors u and v."
   ]
  },
  {
   "cell_type": "code",
   "execution_count": null,
   "metadata": {},
   "outputs": [],
   "source": [
    "def q5(N):\n",
    "    \"\"\"\n",
    "    Input:\n",
    "    N - number of elements in u and v.\n",
    "    \n",
    "    Output:\n",
    "    Returns the sequence: np.array([1*2017,2*2018,...,N*(2017+N-1)])\n",
    "    \n",
    "    Example:\n",
    "    N = 5\n",
    "    \n",
    "    Output = np.array([2017, 4036, 6057, 8080, 10105]) \n",
    "    \"\"\"\n",
    "    \n",
    "    # YOUR CODE HERE\n",
    "    \n",
    "    \"\"\"\n",
    "    Step 1: create u vector - use np.arange()\n",
    "    \n",
    "    Step 2: create v vector - use np.arange()\n",
    "    \n",
    "    Step 3: multiply u by v elementwise\n",
    "    \"\"\"\n",
    "    # Solution:\n",
    "\n",
    "    # Note: the stopping value is NOT included in the list - since we want the last value in the list to be N,\n",
    "    # we need to set the stopping index to N+1\n",
    "    \n",
    "    # args for arange(): (start, stop, step_size) - step_size is optional and defaults to 1\n",
    "    u = np.arange(1, N+1, 1) \n",
    "    v = np.arange(2017, 2017+N) \n",
    "        \n",
    "    return u*v\n"
   ]
  },
  {
   "cell_type": "code",
   "execution_count": null,
   "metadata": {},
   "outputs": [],
   "source": [
    "test_q5(q5)"
   ]
  },
  {
   "cell_type": "markdown",
   "metadata": {},
   "source": [
    "### Question 6 (Difficulty: 1)\n",
    "**<span style=\"color:red\">Given a NumPy vector v, shift all of the elements in v by n steps to the right; values that \"fall off\" the right end of v get inserted at the beginning of v, thus the length of v is preserved. You can either attempt to implement this on your own, or, (hint hint) try searching for a related NumPy function that does some/all of the work for you... </span>**"
   ]
  },
  {
   "cell_type": "code",
   "execution_count": null,
   "metadata": {},
   "outputs": [],
   "source": [
    "def q6(v, N=10):\n",
    "    \"\"\"\n",
    "    Input:\n",
    "    v = NumPy vector\n",
    "    N = number of steps to shift v to the right\n",
    "    \n",
    "    Output:\n",
    "    Returns v shifted to the right by N steps.\n",
    "    \n",
    "    Example:\n",
    "    v = np.array([0,1,2,3,4,5])\n",
    "    N = 3\n",
    "    \n",
    "    Output = np.array([3,4,5,0,1,2])\n",
    "    \"\"\"\n",
    "    \n",
    "    # YOUR CODE HERE\n",
    "    \n",
    "    # Use the np.roll() function\n",
    "    # args for np.roll(): (array, number_of_steps_to_shift)\n",
    "    \n",
    "    return np.roll(v, N)\n",
    "    "
   ]
  },
  {
   "cell_type": "code",
   "execution_count": null,
   "metadata": {},
   "outputs": [],
   "source": [
    "test_q6(q6)"
   ]
  },
  {
   "cell_type": "markdown",
   "metadata": {},
   "source": [
    "### Question 7 (Difficulty: 2)\n",
    "**<span style=\"color:red\">Given an MxM identity matrix, convert this to an (M-N)x(M-N) identity matrix WITHOUT using numpy.eye().</span>**"
   ]
  },
  {
   "cell_type": "code",
   "execution_count": null,
   "metadata": {},
   "outputs": [],
   "source": [
    "def q7(I=np.eye(10), N=4):\n",
    "    \"\"\"\n",
    "    Input:\n",
    "    I - MxM NumPy array representing the identity matrix\n",
    "    N - number of rows and columns to cut from I\n",
    "    \n",
    "    Output:\n",
    "    Returns an (M-N)x(M-N) NumPy identity array.\n",
    "    \n",
    "    Example:\n",
    "    I = np.eye(10)\n",
    "    N = 8\n",
    "    \n",
    "    Output = np.array([[1,0]\n",
    "                       [0,1]]) \n",
    "    \"\"\"\n",
    "    \n",
    "    # YOUR CODE HERE; REMEMBER, YOU CANNOT USE np.eye()! Array Slicing is very helpful!\n",
    "    \n",
    "\n",
    "    \"\"\"\n",
    "    We want to select the first M-N rows and first M-N columns of the input I matrix\n",
    "    Step 1: find the value of M\n",
    "    \n",
    "    Step 2: use array slicing to select the necessary rows and columns\n",
    "    \"\"\"\n",
    "    # Solution 1:\n",
    "    \"\"\"\n",
    "    M = I.shape[0]\n",
    "    new_I = I[0:M-N, 0:M-N]\n",
    "    \n",
    "    return new_I\n",
    "    \"\"\"\n",
    "    \n",
    "    # Solution 2: a more compact version\n",
    "    # Note: here I.shape[0] = I.shape[1] since the I matrix is square\n",
    "    \n",
    "    return I[:I.shape[0]-N, :I.shape[1]-N]\n",
    "    "
   ]
  },
  {
   "cell_type": "code",
   "execution_count": null,
   "metadata": {},
   "outputs": [],
   "source": [
    "test_q7(q7)"
   ]
  },
  {
   "cell_type": "markdown",
   "metadata": {},
   "source": [
    "### Question 8 (Difficulty: 3)\n",
    "**<span style=\"color:red\">Given a square NxN NumPy array A, return a Python list of the values along the diagonal of A, sorted in descending order.</span>**\n",
    "\n",
    "Hint: NumPy has a function to return the elements along a diagonal. Try searching for it! \n",
    "\n",
    "Hint 2: Python's `sorted` function can operate on lists, but not NumPy arrays. `sort` is another similar but subtly different function. What type of object does the function from the first hint return?"
   ]
  },
  {
   "cell_type": "code",
   "execution_count": null,
   "metadata": {},
   "outputs": [],
   "source": [
    "def q8(A):\n",
    "    \"\"\"\n",
    "    Input:\n",
    "    A - NxN NumPy array\n",
    "    \n",
    "    Output:\n",
    "    Returns a Python list containing the diagonal of A sorted in descending order.\n",
    "    \n",
    "    Example:\n",
    "    A = np.array([[1,2,3]\n",
    "                  [4,5,6]\n",
    "                  [7,8,9]])\n",
    "    \n",
    "    Output = [9,5,1]\n",
    "    \"\"\"\n",
    "    \n",
    "    # YOUR CODE HERE\n",
    "\n",
    "    \"\"\"\n",
    "    Step 1: create a list that stores the diagonal elements of A\n",
    "    \n",
    "    Step 2: sort this list in descending order - use sorted()\n",
    "    \n",
    "    * Alternatively, you can also use np.diag()\n",
    "    \"\"\"\n",
    "    \n",
    "    # Solution 1:\n",
    "    \"\"\"\n",
    "    diag_elems = []\n",
    "    for i in range(A.shape[0]):\n",
    "        ith_diag_elem = A[i, i]\n",
    "        diag_elems.append(ith_diag_elem)\n",
    "    return sorted(diag_elems, reverse=True)\n",
    "    \"\"\"\n",
    "    \n",
    "    # Solution 2: a more compact version\n",
    "    \"\"\"\n",
    "    diag_elems = [A[i, i] for i in range(A.shape[0])]\n",
    "    return sorted(diag_elems, reverse = True)\n",
    "    \"\"\"\n",
    "    \n",
    "    # Solution 3: alternate solution using np.diag(): \n",
    "    # https://numpy.org/doc/stable/reference/generated/numpy.diag.html\n",
    "    \n",
    "    diag_elems = (np.diag(A))  #(Unsorted) Diagonal elements of A\n",
    "    return sorted(diag_elems, reverse = True)"
   ]
  },
  {
   "cell_type": "code",
   "execution_count": null,
   "metadata": {},
   "outputs": [],
   "source": [
    "test_q8(q8)"
   ]
  },
  {
   "cell_type": "markdown",
   "metadata": {},
   "source": [
    "### Question 9 (Difficulty: 3)\n",
    "**<span style=\"color:red\">Given an MxN matrix, A, and an NxM matrix, B, concatenate (side-by-side) the first p rows of A with the transpose of the last p columns of B.</span>**"
   ]
  },
  {
   "cell_type": "code",
   "execution_count": null,
   "metadata": {},
   "outputs": [],
   "source": [
    "def q9(A, B, p):\n",
    "    \"\"\"\n",
    "    Input:\n",
    "    A - MxN NumPy array\n",
    "    B - NxM NumPy array\n",
    "    p - number of rows from A to concatenate with number of columns from B\n",
    "    \n",
    "    Output:\n",
    "    Returns the side-by-side concatenation of the first p rows of A with the transpose of the last p columns of B.\n",
    "    \n",
    "    Example:\n",
    "    A = np.array([[1,1,1]\n",
    "                  [1,1,1]\n",
    "                  [1,1,1]\n",
    "                  [1,1,1]])\n",
    "    B = np.array([[1,2,3,4]\n",
    "                  [5,6,7,8]\n",
    "                  [9,10,11,12]])\n",
    "    p = 2\n",
    "    \n",
    "    Output = np.array([[1,1,1,3,7,11]\n",
    "                       [1,1,1,4,8,12]])\n",
    "    \"\"\"\n",
    "    \n",
    "    # YOUR CODE HERE\n",
    "    \n",
    "    \"\"\"\n",
    "    Step 1: create a matrix with the first p rows of A (called A_new)\n",
    "    \n",
    "    Step 2: calculate which column to start at in order to select the last p columns of B\n",
    "    \n",
    "    Step 3: create a matrix with the last p columns of B (called B_new)\n",
    "    \n",
    "    Step 4: concatenate A_new and the transpose of B_new - use np.hstack() or np.concatenate()\n",
    "    \"\"\"\n",
    "    \n",
    "    \n",
    "    # Solution 1\n",
    "    \"\"\"\n",
    "    A_new = A[:p]\n",
    "    \n",
    "    # To know which column of B we want to start with, we can do the following:\n",
    "    B_num_cols = B.shape[1]\n",
    "    B_start_col = B_num_cols - p\n",
    "    \n",
    "    B_new = B[:, B_start_col:] \n",
    "    #This is equivalent to B[:, -p:] which will automatically start at the (B_num_cols - p)th column (inclusive of this column)\n",
    "    \n",
    "    return np.hstack((A_new, B_new.T)) \n",
    "    \"\"\"\n",
    "    \n",
    "    # Solution 2: a more compact version\n",
    "    return np.hstack((A[:p], B[:,-p:].T)) # equivalent to: np.concatenate((A[:p], B[:,-p:].T), axis=1)\n"
   ]
  },
  {
   "cell_type": "code",
   "execution_count": null,
   "metadata": {},
   "outputs": [],
   "source": [
    "test_q9(q9)"
   ]
  },
  {
   "cell_type": "markdown",
   "metadata": {},
   "source": [
    "### Question 10 (Difficulty: 3)\n",
    "**<span style=\"color:red\">Given two differently sized matrices, \"pad\" the matrices with the smaller dimensions with rows/columns of zeros until they are the same size as one another. Add the padding to the bottom (if adding rows) and to the right (if adding columns). </span>**\n",
    "\n",
    "See [slicing](#slice) for examples on how to do array slicing.\n",
    "\n",
    "Hint: there might be a NumPy function that does something similar/exactly to this, but it's good practice to try this yourself. Consider making temporary matrices of all zeros with a specific size. \n",
    "\n",
    "This is typically the hardest question for students."
   ]
  },
  {
   "cell_type": "code",
   "execution_count": null,
   "metadata": {},
   "outputs": [],
   "source": [
    "def q10(A,B):\n",
    "    \"\"\"\n",
    "    Input:\n",
    "    A - MxN NumPy array\n",
    "    B - YxZ NumPy array\n",
    "    \n",
    "    Output:\n",
    "    Returns the zero-padded versions of each array such that they are of equivalent dimensions.\n",
    "    Padding is added to the bottom and right.\n",
    "    \n",
    "    Example:\n",
    "    A = np.array([[1,2,3]\n",
    "                  [4,5,6]])\n",
    "    B = np.array([[1,1]\n",
    "                  [1,1]\n",
    "                  [1,1]])\n",
    "    \n",
    "    Output = np.array([[1,2,3]\n",
    "                       [4,5,6]\n",
    "                       [0,0,0]]), \n",
    "              np.array([[1,1,0]\n",
    "                        [1,1,0]\n",
    "                        [1,1,0]])\n",
    "    \"\"\"\n",
    "    \n",
    "    # YOUR CODE HERE\n",
    "    \n",
    "    \"\"\"\n",
    "    Step 1: identify the correct dimension for the padded matrices (let's call them A_pad and B_pad)\n",
    "        Step 1a: identify whether M or Y is larger - this will be number of rows in the padded matrices\n",
    "        Step 1b: identify whether N or Z is larger - this will be number of columns in the padded matrices\n",
    "    \n",
    "    Step 2: Create the matrices A_pad and B_pad, but fill them with all 0's to begin with\n",
    "    \n",
    "    Step 3: Fill in A_pad with the rows from A - assigning to an array slice is used here\n",
    "    \n",
    "    Step 4: Fill in B_pad with the rows from B - assigning to an array slice is used here\n",
    "    \n",
    "    Step 5: Set A, B to the newly padded matrices A_pad and B_pad\n",
    "    \n",
    "    \"\"\"\n",
    "    # Solution\n",
    "    \n",
    "    #Step 1\n",
    "    (M, N) = A.shape\n",
    "    (Y, Z) = B.shape\n",
    "    \n",
    "    padded_num_rows = max(M, Y)\n",
    "    padded_num_cols = max(N, Z)\n",
    "    \n",
    "    #Step 2\n",
    "    A_pad = np.zeros((padded_num_rows,padded_num_cols))\n",
    "    B_pad = np.zeros((padded_num_rows,padded_num_cols))\n",
    "    \n",
    "    #Step 3\n",
    "    A_pad[:M, :N] = A\n",
    "    \n",
    "    #Step 4\n",
    "    B_pad[:Y, :Z] = B\n",
    "    \n",
    "    #Step 5\n",
    "    #A = A_pad\n",
    "    #B = B_pad\n",
    "    \n",
    "    return A_pad, B_pad\n",
    "    "
   ]
  },
  {
   "cell_type": "code",
   "execution_count": null,
   "metadata": {},
   "outputs": [],
   "source": [
    "test_q10(q10)"
   ]
  },
  {
   "cell_type": "code",
   "execution_count": null,
   "metadata": {},
   "outputs": [],
   "source": [
    "test_all(q1,q2,q3,q4,q5,q6,q7,q8,q9,q10)"
   ]
  },
  {
   "cell_type": "markdown",
   "metadata": {},
   "source": [
    "<a id='checkoff'></a>\n",
    "## Checkoff\n",
    "To receive credit, all labs will require the submission of a checkoff Google form. This link will be at the bottom of each lab. Both partners should fill out the form (you should have one submission per person), and feel free to use the same Google account/computer to fill it out as long as you have the correct names and student IDs.\n",
    "\n",
    "[Fill out the checkoff Google form.](https://docs.google.com/forms/d/e/1FAIpQLSc6AEapc5xrVjHGzRgEdsHLcZBKVZ9aFR_TYMx00UNBFJ916g/viewform?usp=sf_link)"
   ]
  }
 ],
 "metadata": {
  "anaconda-cloud": {},
  "kernelspec": {
   "display_name": "Python 3",
   "language": "python",
   "name": "python3"
  },
  "language_info": {
   "codemirror_mode": {
    "name": "ipython",
    "version": 3
   },
   "file_extension": ".py",
   "mimetype": "text/x-python",
   "name": "python",
   "nbconvert_exporter": "python",
   "pygments_lexer": "ipython3",
   "version": "3.8.5"
  }
 },
 "nbformat": 4,
 "nbformat_minor": 4
}
