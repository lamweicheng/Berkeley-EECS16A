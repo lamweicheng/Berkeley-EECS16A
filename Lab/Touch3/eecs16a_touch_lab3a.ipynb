{
 "cells": [
  {
   "cell_type": "markdown",
   "metadata": {},
   "source": [
    "# Touchscreen Lab 3a: Capacitive Touchscreen - Sensing and Processing\n",
    "\n",
    "### EECS 16A: Designing Information Devices and Systems I, Fall 2022"
   ]
  },
  {
   "cell_type": "markdown",
   "metadata": {},
   "source": [
    "## Table of Contents\n",
    "\n",
    "* [Instructions](#instructions)\n",
    "* [Lab Policies](#policies)\n",
    "* [Introduction](#overview)\n",
    "* [Task 1: Sensing](#task1)\n",
    "    * [Task 1a: Capacitive Model](#task1a)\n",
    "    * [Task 1b: Soldering](#task1b)\n",
    "* [Task 2: Capacitors and Current](#task2)\n",
    "    * [Task 2a: Current-Voltage Relationship in a Capacitor](#task2a)\n",
    "    * [Task 2b: Max and Min Values](#task2b)\n",
    "* [Task 3: Processing Block - Comparator](#task3)\n",
    "    * [Task 3a: Breadboarding](#task3a)\n",
    "    * [Task 3b: Testing Using the Function Generator](#task3b)\n",
    "* [Feedback](#feedback)\n",
    "* [Checkoff](#checkoff)"
   ]
  },
  {
   "cell_type": "markdown",
   "metadata": {},
   "source": [
    "<a id='instructions'></a>\n",
    "## Instructions\n",
    "\n",
    "* **Gently disinfect all commonly touched surfaces** at your lab station using the provided cleaning wipes.\n",
    "\n",
    "\n",
    "* Complete this lab by filling in all of the required sections, marked with `\"YOUR CODE HERE\"` or `\"YOUR COMMENTS HERE\"`.\n",
    "\n",
    "\n",
    "* If images do not load or are blank, please re-open this notebook.\n",
    "\n",
    "\n",
    "* When you finish, submit a checkoff request to get checked off for this lab. Be ready to answer a few questions to show your understanding of each section.\n",
    "\n",
    "\n",
    "* Labs will be graded based on completion for teams of 2 students.\n",
    "\n",
    "<a id='policies'></a>\n",
    "## Lab Policies\n",
    "* **YOU MUST ATTEND THE LAB SECTION YOU ARE ENROLLED IN. If you anticipate missing a section, please notify your GSI in advance.**\n",
    "* **You are required to return all parts checked out at the beginning of the lab section unless told otherwise.**\n",
    "* **You are free to stay for the full allotted time and hack around with the lab equipment, but please reserve the GSI's time for lab-related questions.**\n",
    "* **Food and drinks are not allowed in the lab.** \n",
    "* **Clean up, turn off all equipment, and log off of computers before leaving.**"
   ]
  },
  {
   "cell_type": "markdown",
   "metadata": {},
   "source": [
    "<a id='overview'></a>\n",
    "\n",
    "# <span style=\"color:blue\">Introduction - Sensing, Processing, and Actuation</span> "
   ]
  },
  {
   "cell_type": "markdown",
   "metadata": {},
   "source": [
    "<center><img src=\"https://docs.google.com/drawings/d/e/2PACX-1vSsqf2T2CcBEfQAhJni1RBl4UwqT5FTe3sQ-dMOH-lJi4ueXOT0Qes1gfkUV0CatZi5izWIzDcPwkUk/pub?w=1485&h=784\" style=\"height:400px\"/></center>"
   ]
  },
  {
   "cell_type": "markdown",
   "metadata": {},
   "source": [
    "Most electronic systems perform 3 major tasks: (1) <span style='color:orange'><b>Sense</b></span>, (2) <span style='color:green'><b>Process</b></span>, and (3) <span style='color:blue'><b>Actuate</b></span>. For sensing, sensors are used to \"transduce\" or convert physical quantities to electrical signals. The electrical signals are then conditioned and processed for different application needs. Finally, as an optional step, actuators are used to bring about physical change back into the tangible world. In this lab, we will use a capacitive touchpad to sense a touch, process the resulting electrical signal using a combination of additional circuit elements, and then actuate an indicator, an LED, to indicate that a touch has been detected."
   ]
  },
  {
   "cell_type": "markdown",
   "metadata": {},
   "source": [
    "## Capacitive Touchscreen\n",
    "The resistive touchscreen you built in Touch 2 is well-suited for devices using a stylus because the screen has to be deformed in order to sense a touch. Resistive touchscreens are also well-suited for computer peripherals, such as keyboards, to sense button presses. However, a lot of devices don't require a stylus or a hard press; this is where capacitive touch screens save the day."
   ]
  },
  {
   "cell_type": "markdown",
   "metadata": {},
   "source": [
    "<a id='task1'></a>\n",
    "# <span style=\"color:blue\">Task 1: Sensing Block</span>"
   ]
  },
  {
   "cell_type": "code",
   "execution_count": null,
   "metadata": {},
   "outputs": [],
   "source": [
    "# Load the autograder\n",
    "%run autograder.py"
   ]
  },
  {
   "cell_type": "markdown",
   "metadata": {},
   "source": [
    "<a id='task1a'></a>\n",
    "## <span style=\"color:blue\">Task 1a: Capacitive Model</span>\n",
    "\n",
    "In lecture, we have been modeling the Capacitive Touchscreen like this:\n",
    "\n",
    "<img src=\"img/lec_touch.jpg\" align=\"center\" style=\"height:400px\">\n",
    "\n",
    "However, due to hardware limitations in the lab, we will build our touchscreen differently. This is to make sure the touchscreen is much more sensitive than the one we model in lecture. We will build and model the lab touchscreen like this:\n",
    "\n",
    "<img src=\"img/lab_touch.jpg\" align=\"center\" style=\"height:400px\">\n",
    "\n",
    "The finger can be modeled as a new node in the circuit that gets added above the capacitor, creating two capacitors in series with one another. We can model our touchscreen capacitor as follows:\n",
    "\n",
    "<img src=\"img/cap_model.jpg\" align=\"center\" style=\"height:400px\">\n",
    "\n",
    "We label the first capacitor $C_{E1-F}$ and the second capacitor $C_{F-E2}$. $C_{\\Delta}$ forms their series equivalent. \n",
    "\n",
    "**<span style=\"color:red\">Is $C_{\\Delta}$ in parallel or in series with the capacitive touchscreen, $C_{0}$, if we are measuring the capacitance between nodes $E1$ and $E2$?** </span>"
   ]
  },
  {
   "cell_type": "markdown",
   "metadata": {},
   "source": [
    "`YOUR ANSWER HERE`"
   ]
  },
  {
   "cell_type": "markdown",
   "metadata": {},
   "source": [
    "****\n",
    "\n",
    "**<span style=\"color:red\">Using the following values and the reference diagram above, calculate $C_{E1-F}$ and $C_{F-E2}$ given the following values, then $C_{\\Delta}$ using $C_{E1-F}$ and $C_{F-E2}$</span>** <br/>\n",
    "Note:  Permittivity ($\\epsilon$) describes how a material reacts under an external electrical field.\n",
    "$\\kappa$ represents the relative permittivity, or dielectric constant, of a material. This is simply the ratio of the permittivity of the material to the permittivity of vacuum. Thus, the material's permittivity is given by $\\epsilon = \\kappa \\epsilon_{0}$. \n",
    "\n",
    "$$\\varepsilon_0 = 8.854\\times10^{-12}\\frac{F}{m},\\;\\;\\; \\kappa_{tape} \\approx 5, \\;\\;\\; A_{fingers} = 20{cm}^{2}, \\;\\;\\; d_{tape} = 1mm$$\n",
    "<br><br>\n",
    "<center>Recall the equation for capacitance:</center>\n",
    "\n",
    "$$C=\\kappa\\varepsilon_0 \\times \\frac{A}{d}$$"
   ]
  },
  {
   "cell_type": "markdown",
   "metadata": {},
   "source": [
    "<center>\n",
    "    $\\text{milli (m)} = 10^{-3}$, $\\text{micro (}\\mu\\text{)} = 10^{-6}$, $\\text{nano (n)} = 10^{-9}$, $\\text{pico (p)} = 10^{-12}$\n",
    "</center>\n",
    "\n",
    "Make sure your units match! ($1{cm}^2 = 0.0001m^2$, $1mm = 0.001m$)"
   ]
  },
  {
   "cell_type": "markdown",
   "metadata": {},
   "source": [
    "| Capacitor             | Capacitance        |         \n",
    "| --------------------: |:-----------------: |\n",
    "| **$C_{E1-F}$**        | `YOUR ANSWER HERE` |\n",
    "| **$C_{F-E2}$**        | `YOUR ANSWER HERE` |\n",
    "| **$C_{\\Delta}$**      | `YOUR ANSWER HERE` |"
   ]
  },
  {
   "cell_type": "markdown",
   "metadata": {},
   "source": [
    "Save your calculated values here. You can use scientific notation in Python, `1e-12`, for $1pF$."
   ]
  },
  {
   "cell_type": "code",
   "execution_count": null,
   "metadata": {},
   "outputs": [],
   "source": [
    "C_E1_F = #YOUR ANSWER HERE\n",
    "autograde(C_E1_F, question=\"C_E1_F\")"
   ]
  },
  {
   "cell_type": "code",
   "execution_count": null,
   "metadata": {},
   "outputs": [],
   "source": [
    "C_F_E2 = #YOUR ANSWER HERE\n",
    "autograde(C_F_E2, question=\"C_F_E2\")"
   ]
  },
  {
   "cell_type": "code",
   "execution_count": null,
   "metadata": {},
   "outputs": [],
   "source": [
    "C_Delta = #YOUR ANSWER HERE\n",
    "autograde(C_Delta, question=\"C_Delta\")"
   ]
  },
  {
   "cell_type": "markdown",
   "metadata": {},
   "source": [
    "$C_{0}$, the capacitance of the capacitive touchscreen without any fingers touching it. This ia a very small capacitance value and can be a bit more complicated to model, requiring concepts outside the scope of this class (such as fringing fields). For this lab, we will say that $C_{0}$ simply has a capacitance of $50pF$. \n",
    "\n",
    "\n",
    "**<span style=\"color:red\"> Knowing the concepts of equivalent capacitance, how would you expect the overall effective capacitance, $C_{pixel}$, to change with a touch? Use your value calculated from above of $C_{0}$ ($50pF$) and $C_{\\Delta}$.</span>**"
   ]
  },
  {
   "cell_type": "markdown",
   "metadata": {},
   "source": [
    "`YOUR ANSWER HERE`"
   ]
  },
  {
   "cell_type": "markdown",
   "metadata": {},
   "source": [
    "<a id='task1b'></a>\n",
    "## <span style=\"color:blue\">Task 1b: Soldering</span>\n",
    "\n",
    "#### Materials & Equipment\n",
    "* Microscope glass slide - TA Desk\n",
    "* Two strips of copper (2 Lengthwise Strips) - TA Desk\n",
    "* Scotch tape (~ 4 inches) - TA Desk\n",
    "* 2 Breadboarding Wires - TA Desk\n",
    "* Solder - TA Desk\n",
    "* 4 foam pieces - TA Desk\n",
    "* Multimeter Wires - Back Wall\n",
    "\n",
    "First, let's build a capacitive touchpad from strips of copper and a glass slide. We also need a dielectric material to prevent shorting the circuit; the dielectric material we will be using is Scotch tape. \n",
    "\n",
    "\n",
    "1. Place four foam blocks on one side of the glass slide.\n",
    "<br><br>\n",
    "<center>\n",
    "<img src=\"img/build0.jpg\" style=\"height:300px; display:inline-block;\">\n",
    "</center>\n",
    "1. Flip the glass slide over to the side with no foam blocks. To build the first layer, lay both copper strips down on the glass as shown below; **remove the white tape on the copper to expose the adhesive.** Make sure that the two copper strips are not touching each other.\n",
    "<br><br>\n",
    "<center>\n",
    "<img src=\"img/build1.jpg\" style=\"height:300px; display:inline-block;\">\n",
    "</center>\n",
    "\n",
    "1. Take two wires, strip them, and solder one end of each to one of the edges of each copper strip. The wires may heat up while soldering so try to not touch the parts close to the solder.\n",
    "<br><br>\n",
    "<center>\n",
    "<img src=\"img/build2.jpg\" style=\"height:300px; display:inline-block;\">\n",
    "</center>\n",
    "<br/>\n",
    "\n",
    "1. Cover the exposed copper strips with two pieces of tape laid down lengthwise. This tape is where you will be touching. \n",
    "<br><br>\n",
    "<center>\n",
    "<img src=\"img/build3.jpg\" style=\"height:300px; display:inline-block;\">\n",
    "</center>\n",
    "<br/>\n",
    "\n",
    "1. When touching the touchscreen, place your hand like this to get the best results.\n",
    "<br><br>\n",
    "<center>\n",
    "<img src=\"img/build4.jpg\" style=\"height:300px; display:inline-block;\">\n",
    "</center>\n",
    "\n",
    "<!--- **<span style=\"color:red\">Note: Cory 125 does not have the equipment necessary to answer this question. Ask a lab staff member for the experimental values. If you have any conceptual question about the touchscreen's capacitance, feel free to ask any lab staff.** --->\n",
    "\n",
    "\n",
    "**<span style=\"color:red\">Use the multimeter to measure the capacitance of the touchpad. You can do this by plugging in two multimeter probes into the `HI` and `LO` ports and connecting the ends to the two wires on your touchpad. Then, click the Capacitance button (the one below $\\Omega$). Fill out the table below. How does the capacitance change when you touch it?</span>**"
   ]
  },
  {
   "cell_type": "markdown",
   "metadata": {},
   "source": [
    "| Touch              | Touch Sensor Capacitance, $C_{pixel}$ |\n",
    "| :----------------: | :-----------------------------------: |\n",
    "|**Without finger**  |          `YOUR ANSWER HERE`           |\n",
    "| **With finger**    |          `YOUR ANSWER HERE`           |"
   ]
  },
  {
   "cell_type": "markdown",
   "metadata": {},
   "source": [
    "**<span style=\"color:red\">How did your answers compare to the values you calculated above? Can you think of any reasons why your numbers are different than expected?</span>**"
   ]
  },
  {
   "cell_type": "markdown",
   "metadata": {},
   "source": [
    "`YOUR ANSWER HERE`"
   ]
  },
  {
   "cell_type": "markdown",
   "metadata": {},
   "source": [
    "<a id='task2'></a>\n",
    "# <span style=\"color:blue\">Task 2: Capacitors and Current</span>\n",
    "\n",
    "In this section, we'll first focus on how capacitors react to different currents, and then use our new knowledge to create a link to Touchscreen 3B.\n",
    "\n",
    "<a id='task2a'></a>\n",
    "\n",
    "## <span style=\"color:blue\">Task 2a: Current-Voltage Relationship in a Capacitor</span>\n",
    "\n",
    "Let us first take a look at a simple circuit: an ideal current source connected to a capacitor. In lecture, we have learned the **Charge-Voltage** relationship.\n",
    "\n",
    "$$Q=CV$$\n",
    "\n",
    "However, we would like to derive a **Current-Voltage** relationship, because charge is incredibly hard to measure and cannot be regularly observed using lab station equipment. \n",
    "\n",
    "<span style=\"color:red\"><b>Derive an expression for the Current-Voltage relationship for a capacitor. Make sure your answer is in the form $V = ...$</b></span>\n",
    "\n",
    "*Hint*: $I=\\frac{dQ}{dt}$"
   ]
  },
  {
   "cell_type": "markdown",
   "metadata": {},
   "source": [
    "`YOUR ANSWER HERE`"
   ]
  },
  {
   "cell_type": "markdown",
   "metadata": {},
   "source": [
    "Now that you have derived the current-voltage relationship for a capacitor, let us implement it in a function.\n",
    "\n",
    "**Complete the function `cap_IV` below.** We have provided a function `integrate` for you to use:\n",
    "<br><br>\n",
    "\n",
    "```\n",
    "def integrate(y, dt, in0):\n",
    "    \"\"\"\n",
    "    Returns the trapezoidal approximation for the integral of a function 'y'.\n",
    "    \n",
    "    y  - list of y values to be integrated\n",
    "    dt - time delta\n",
    "    in0 - integration constant - i.e. inital value\n",
    "    \"\"\"\n",
    "```\n",
    "\n",
    "You don't need to know the specifics of `integrate`, but feel free to to refer to [this documentation](https://docs.scipy.org/doc/scipy-0.18.1/reference/generated/scipy.integrate.cumtrapz.html) for details.\n",
    "\n",
    "Hint: What is relationship between I and V? What does that tell you about what to integrate over?\n",
    "\n",
    "<br>\n",
    "<span style=\"color:red\"><b>Make sure the cap_IV test passes before moving on.</b></span>"
   ]
  },
  {
   "cell_type": "code",
   "execution_count": null,
   "metadata": {},
   "outputs": [],
   "source": [
    "%run helper.py\n",
    "%matplotlib notebook \n",
    "rcParams['figure.figsize'] = 7,5\n",
    "\n",
    "def cap_IV(i_in, C, dt, v_0=0):\n",
    "    \"\"\"\n",
    "    Returns Voltage of the Capacitor\n",
    "    \n",
    "    i_in - list of input currents\n",
    "    C    - size of capacitor (Farads)\n",
    "    dt   - time delta\n",
    "    v_0  - Initial Voltage on Capacitor\n",
    "    \n",
    "    Example:\n",
    "    i_in   = [0.002, 0.002, 0.002, \n",
    "           0.002, 0.002]        # 2 milliAmp Constant Current\n",
    "    Cap = 1e-9                  # 1 nanoFarads\n",
    "    dt   = 3e-6                 # 3 microsecond   \n",
    "    Out = [0, 6, 12, 18, 24]\n",
    "    \"\"\"\n",
    "    # YOUR CODE HERE\n",
    "\n",
    "    # END OF YOUR CODE\n",
    "\n",
    "test_cap_IV(cap_IV)"
   ]
  },
  {
   "cell_type": "markdown",
   "metadata": {},
   "source": [
    "The code block below will simulate the voltage across a capacitor given a constant current of $2mA$.\n",
    "\n",
    "**Before running the simulation, predict what the graph of the voltage across the capacitor should look like.** </br>\n",
    "\n",
    "<span style=\"color:red\"><b>Be ready to explain why your graph matches the expected outcome given the derivations you performed above.</b></span>"
   ]
  },
  {
   "cell_type": "code",
   "execution_count": null,
   "metadata": {},
   "outputs": [],
   "source": [
    "test_i_in = np.array(1000 * [0.02])\n",
    "%matplotlib notebook\n",
    "plt.ylabel(\"Voltage\")\n",
    "plt.xlabel(\"Time\")\n",
    "plt.plot(range(0, 1000), cap_IV(test_i_in, 100e-9, 0.2e-6), color='b')"
   ]
  },
  {
   "cell_type": "markdown",
   "metadata": {},
   "source": [
    "**Now that we have a working model, let us approach something a bit more complex. Take a look at the circuit below:**\n",
    "\n",
    "<img src=\"img/current.jpg\" align=\"center\" style=\"height:400px\">\n",
    "\n",
    "**Note: Diagonal arrows going through circuit elements, like $C_{eq}$ shown above, mean that the component's value is variable.**\n",
    "\n",
    "We are now sending in what we call a square wave of current into our variable capacitor $C_{pixel}$. A square wave in our case will be $10mA$ of current into the capacitor for a set amount of time, then $-10mA$ of current into the capacitor, or $10mA$ of current out. Run this code block to help visualize what a square wave looks like. \n",
    "We will add a switch to ensure that the capacitor is discharged at $t_0$."
   ]
  },
  {
   "cell_type": "code",
   "execution_count": null,
   "metadata": {
    "scrolled": false
   },
   "outputs": [],
   "source": [
    "square_wave = square_wave_zerod()\n",
    "%matplotlib notebook\n",
    "plt.ylim([-0.012, 0.012])\n",
    "plt.ylabel(\"Current (A)\")\n",
    "plt.xlim([0, 1401])\n",
    "plt.xlabel(\"Time\")\n",
    "plt.plot(range(0,1400), square_wave, color='r')"
   ]
  },
  {
   "cell_type": "markdown",
   "metadata": {},
   "source": [
    "Now that we understand what our input signal looks like, let us simulate the voltage across the capacitor given our square wave input. Before running the code below, **try to predict what the output voltage across the capacitor should look like**. The plot also include 2 buttons that you can use to simulate a touch / release of the capacitor. Play with the plot and <span style=\"color:red\"><b>be ready to explain the reasoning behind the change of output voltage given a touch or release.</b></span> Remember that touching the capacitor will **increase** the capacitance - think about how this affects the waveform from your previously derived current-voltage expression.\n",
    "\n",
    "Run the code block to simulate the circuit with the touchscreen.\n",
    "\n",
    "**Note**: This block simulates the voltage output at a time $t$ much further than the initial condition, so you will not see the zero'd out portion.\n",
    "\n",
    " **Make sure to fill C and C_t with the two capacitor values that you measured from the above section.**"
   ]
  },
  {
   "cell_type": "code",
   "execution_count": null,
   "metadata": {},
   "outputs": [],
   "source": [
    "# Use scientific notation: 1 picoFarad (pF) -> 1e-12\n",
    "C   = # Value measured without finger\n",
    "C_t = # Value measured with finger\n",
    "\n",
    "check_cap(C, C_t)\n",
    "(vo, vot), _ = cap_plot(cap_IV, C, C_t)"
   ]
  },
  {
   "cell_type": "markdown",
   "metadata": {},
   "source": [
    "<a id='task2b'></a>\n",
    "\n",
    "## <span style=\"color:blue\">Task 2b: Max and Min Values</span>\n",
    "\n",
    "We now have a simulation for the different signals that we can expect from our capacitive touch sensor given a square wave current input. While we can distinguish the difference in the signals by inspection, we would like another circuit to be able to take in the signal as an input, and have a defined output for when there is a touch vs when there is not a touch.\n",
    "\n",
    "Operational amplifiers, or op-amps, can be used to compare two voltage values and output a desired voltage depending on the result. This is what we call a **comparator**. It is perfect for what we would like to do. View the schematic below:\n",
    "\n",
    "<img src=\"img/comparator-graphic.gif\" align=\"center\" style=\"height:250px\">\n",
    "<center><font size=1>https://www.electronics-tutorials.ws/opamp/op-amp-comparator.html</font></center>\n",
    "<br>\n",
    "An input voltage ($V_{IN}$) is compared to a reference voltage ($V_{REF}$). If $V_{IN}$ is <font color=green><b>greater than</b></font> $V_{REF}$, the output of the op-amp ($V_{OUT}$) is the <font color=red><b>positive supply rail voltage</b></font> ($+V_{CC}$ in this particular diagram). If $V_{IN}$ is <font color=orange><b>less than</b></font> $V_{REF}$, $V_{OUT}$ is the <b>negative supply rail voltage</b> ($-V_{CC}$ in this particular diagram).\n",
    "\n",
    "The graph on the right shows that the voltage difference is a linear response with the slope dictated by the op-amp's gain. However, once the amplified voltage difference reaches a saturation point where $V_{OUT}$ becomes limited by the supply rail voltages, $+V_{CC}$ and $-V_{CC}$. The linear region output can occur if $V_{IN}$ is close in value to $V_{REF}$, but for the sake of our labs, this difference is always large enough to reach the saturation region.\n",
    "\n",
    "Run the following code block to get the max values for the two signals. \n",
    "\n",
    "*HINT*: These values will be useful when coding the next function."
   ]
  },
  {
   "cell_type": "code",
   "execution_count": null,
   "metadata": {},
   "outputs": [],
   "source": [
    "print(\"Max Voltage Without Touch: \", '%.2f' % max((vo)))\n",
    "print(\"Max Voltage With Touch: \", '%.2f' % max((vot)))"
   ]
  },
  {
   "cell_type": "markdown",
   "metadata": {},
   "source": [
    "<span style=\"color:red\"><b>Set a good value for `v_ref` and complete the following `comparator` function to implement the comparator.</b></span> "
   ]
  },
  {
   "cell_type": "code",
   "execution_count": null,
   "metadata": {},
   "outputs": [],
   "source": [
    "v_ref = # YOUR CODE HERE\n",
    "\n",
    "def comparator(v_in, v_ref, vdd=5, vss=-5):\n",
    "    \"\"\"\n",
    "    Returns a comparator output given two inputs\n",
    "    \n",
    "    v_in - Input voltage to be compared to v_ref\n",
    "    v_ref - Reference voltage to v_in\n",
    "    vdd - output when v_in > v_ref\n",
    "    vss - output when v_in < v_ref\n",
    "    \"\"\"\n",
    "    # YOUR CODE HERE"
   ]
  },
  {
   "cell_type": "markdown",
   "metadata": {},
   "source": [
    "**We will now use our comparator to see how the output will look if we feed in the voltage across the capacitor.**\n",
    "\n",
    "Pay close attention to the relationship between the <span style='color:green'><b>comparator output</b></span>  and the <span style='color:blue'><b>capacitor voltage</b></span> as it crosses the <span style='color:red'><b>reference voltage</b></span>. Note that the output might not be as intuitive - you must observe the output signals closely to determine how the output changes with the touch vs no touch."
   ]
  },
  {
   "cell_type": "code",
   "execution_count": null,
   "metadata": {},
   "outputs": [],
   "source": [
    "_ = cap_plot_wcomp(comparator, v_ref, cap_IV, C, C_t)"
   ]
  },
  {
   "cell_type": "markdown",
   "metadata": {},
   "source": [
    "Now we can observe how the output of the comparator changes as we touch and release the capacitive touch screen. While this is all wonderful, there is a crucial part of the circuit that we overlooked: **the current source**. In the real world, there is no such thing as an ideal current source that can output a nice square wave. \n",
    "\n",
    "**Soon we will learn how to utilize an opamp, voltage source, and some resistors to design a realistic current source. We will revisit these concepts in Touch 3B, where we will implement a realistic current source and observe the real world actuation of our simulated circuit.**"
   ]
  },
  {
   "cell_type": "markdown",
   "metadata": {},
   "source": [
    "<a id='task3'></a>\n",
    "# <span style=\"color:blue\">Task 3: Processing Block - Comparator</span>\n",
    "\n",
    "Now that we have an understanding of the capacitor as a current integrator and the op-amp as a comparator, we would like to realize our circuit. For the rest of this lab, we will be building and testing the processing comparator and actuation LED part of the circuit. To understand what is going on in the circuit below, let's link together concepts that we learned and their realized circuit equivalents.\n",
    "\n",
    "<br>\n",
    "\n",
    "<img src=\"img/full_circuit.png\" style=\"height:400px\"/>\n",
    "\n",
    "<br>\n",
    "\n",
    "**Processing Integrator**: From [Task 2a](#task2a), we plotted the current-voltage characteristic of a capacitor and showed that it can integrate a current signal. The processing integrator part of the circuit will be integrating the current signal, and sending that over to the processing comparator.\n",
    "\n",
    "**Processing Comparator**: In [Task 2b](#task2b), we looked at an op-amp as a comparator, and wrote a function to simulate its behavior. We set the reference voltage and watched the output of the comparator as we simulated a \"touch\" in the circuit.\n",
    "\n",
    "**Actuation LED**: Finally, we would like our circuit to actuate something tangible. We choose an LED for its simplicity and immediate response. If an LED turns on with positive voltage, you can imagine what would happen if we took the output of the comparator and fed that into an LED. The resistor serves to limit the amount of current draw so that we do not burn the LED. \n",
    "\n",
    "<!--- <span style=\"color:red\"><b>Note for the LED: An LED has direction, which means that its two connections do not serve the same purpose and need to be carefully placed. The longer leg is the positive leg, and the shorter leg is the negative leg, meaning it should go to ground. We will remind you again later in the lab.</b></span> --->\n",
    "\n",
    "**Note: Circuit elements that have a diagonal arrow going through them, like $C_{pixel}$ shown above, mean that the component's value is variable. In this case, the symbol for $C_{pixel}$ is variable because it has one capacitance value when it is not being touched and another capacitance value when it is.**"
   ]
  },
  {
   "cell_type": "markdown",
   "metadata": {},
   "source": [
    "### <span style=\"color:blue\">Dual Op-AMP IC</span>\n",
    "To implement the actuation comparator, we will use a dual op-amp chip. This means that a single chip contains two separate op-amps. For reference, we are using the LMC6482 IC chip, which should be found in your lab kit.\n",
    "\n",
    "Pictured below is a graphic of the chip we are using as well as its pinout. The notch indicates the top of the chip, and should be used to orient the chip. The pins are numbered sequentially as you go counter-clockwise around the chip. As you can see, there are two separate op amps in the chip, labeled `A` and `B`, each with their own input and output terminals. However, both Op Amps share the same positive and negative supply rail voltages, labeled $V^+$ and $V^-$ in the diagram below.\n",
    "<br>\n",
    "<br>\n",
    "\n",
    "<center><b>Reminder: Make sure the notch on the IC chip is on top!</b></center>\n",
    "\n",
    "<br>\n",
    "\n",
    "<center><img src=\"img/opamp-with-chip.png\" align=\"center\" style=\"height:275px\"></center>\n",
    "\n",
    "<center><span style=\"font-size:9pt;align:center\">Additional details: http://www.ti.com/lit/ds/symlink/lmc6482.pdf</span></center>\n",
    "\n",
    "<br>\n",
    "\n",
    "**It is worth noting that the notation used for labeling the op-amps is a bit different than class, so please be careful when referring to the terminal labels. We have tried to avoid ambiguity by labeling $+/-$ terminals with only a $+$ or $-$ sign, and labeling supply voltages using words, as shown below:**\n",
    "<br>\n",
    "<br/>\n",
    "<center><font color=\"blue\"><b>Op-Amp IC Pin Assignments</b></font></center>\n",
    "\n",
    "| **Op-Amp Label** |        + pin        |        - pin        |       OUT pin       |\n",
    "|:----------------:|:-------------------:|:-------------------:|:-------------------:|\n",
    "|        $A$       | $\\color{blue}{(3)}$ | $\\color{blue}{(2)}$ | $\\color{blue}{(1)}$ |\n",
    "|        $B$       | $\\color{blue}{(5)}$ | $\\color{blue}{(6)}$ | $\\color{blue}{(7)}$ |\n",
    "\n",
    "$$\\textrm{Positive Supply Voltage: }\\color{blue}{(8)}$$\n",
    "$$\\textrm{Negative Supply Voltage: }\\color{blue}{(4)}$$\n",
    "\n",
    "*Note: In circuit theory, we sometimes do not explicitly draw the Power Supply Rails ($V^{+}$ and $V^{-}$) because we assume them to be infinitely positive or infinitely negative compared to our signal so we can focus more on analysis than implementation.*"
   ]
  },
  {
   "cell_type": "markdown",
   "metadata": {},
   "source": [
    "As you've seen, when there's no touch in the system, we get larger voltage triangle wave peaks. Likewise, when there's touch, we get smaller voltage triangle wave peaks. **<span style=\"color:red\">For each setting (touch and no touch) below, describe the expected output of the processing comparator. Assume $V_{ref}$ is around 3V.</span>**\n",
    "<img src=\"img/no_touch.png\" align=\"center\" width=\"500\" />\n",
    "<center><font size=3>No Touch</font></center>\n",
    "<br><br>\n",
    "<img src=\"img/with_touch.png\" align=\"center\" width=\"500\" />\n",
    "<center><font size=3>With Touch</font></center>\n",
    "</p>"
   ]
  },
  {
   "cell_type": "markdown",
   "metadata": {},
   "source": [
    "`YOUR ANSWER HERE`"
   ]
  },
  {
   "cell_type": "markdown",
   "metadata": {},
   "source": [
    "<a id='task3a'></a>\n",
    "## <span style=\"color:blue\">Task 3a: Breadboarding</span>\n",
    "\n",
    "Now that we have an understanding of all of our required materials, let us translate the processing comparator and actuation LED parts of circuit from above to the breadboard. For your convenience, it has been copied below. There is also an incomplete breadboard below to get you started.\n",
    "\n",
    "<span style=\"color:red\"><b>Please try to keep your circuit planar (i.e. wires not crossing each other and flush to the breadboard). This will make debugging and storing the breadboard for next lab much easier.</b></span>\n",
    "\n",
    "### <span style=\"color:blue\">Materials</span>\n",
    "* Breadboard - Kit\n",
    "* LED (any color) - Kit\n",
    "* 1 Dual Op-Amp Chip - Kit\n",
    "* Resistor ($330\\Omega$) - TA Desk\n",
    "* Breadboarding Wires (as many as you need, although for reference we used around 4 inches) - TA Desk\n",
    "* Power Supply Wires (for +6V, +25V, and -25V terminals) : 3 **<span style=\"color:red\">Red</span>** 2 **Black** - Back Wall\n",
    "\n",
    "\n",
    "<br>\n",
    "\n",
    "<img src=\"img/partial_circuit.png\" style=\"height:400px\"/>\n",
    "\n",
    "<br>\n",
    "\n",
    "\n",
    "<center><img src=\"img/opamp-with-chip.png\" align=\"center\" style=\"height:150px\"></center>\n",
    "\n",
    "<br>\n"
   ]
  },
  {
   "cell_type": "markdown",
   "metadata": {},
   "source": [
    "**<span style=\"color:red\">Part of the circuit has been translated for you as a starting point as shown in the image below. You are free to choose between op-amp A or B for the comparator. Please build the rest of the circuit and reference the checklist below when you think you are complete.</span>**\n",
    "<br><br>\n",
    "\n",
    "<center><img src=\"img/3a_bb.png\" style=\"height:500px\"></center>\n",
    "\n",
    "**You should have the following things plugged into your circuit at the end:**\n",
    "\n",
    "1. Op Amp Chip (Notch is facing up!)\n",
    "2. $330 \\Omega$ Resistor\n",
    "3. LED (long leg goes to the resistor, short leg goes to ground)\n",
    "6. Power cables to the power supply (+6V, +25V, -25V)\n",
    "    * The 6V channel should be set to $2.5V$. This is a reasonable value for $V_{ref}$ that we have chosen for you.\n",
    "    * The 25V and -25V channels should be each set to $5V$ and $-5V$ respectively\n",
    "7. Ground cables to the power supply (both of them)\n",
    "\n",
    "**<span style=\"color:red\">Make sure you have properly limited the current on all channels (+6V, +25V, -25V) to 0.1A.</span>**"
   ]
  },
  {
   "cell_type": "markdown",
   "metadata": {},
   "source": [
    "<a id='task3b'></a>\n",
    "## <span style=\"color:blue\">Task 3b: Testing Using the Function Generator</span>\n",
    "\n",
    "Now that you have built your circuit, let's test the functionality of the comparator! Unfortunately, as stated before, we do not have a square wave current source, so instead we can simulate the voltage behavior of the capacitor using the Function Generator. However, we will have to make a small modification to our circuit before testing it. Obtain the following materials before continuing.\n",
    "\n",
    "\n",
    "### <span style=\"color:blue\">Materials</span>\n",
    "\n",
    "* Function Generator Probe (Pictured Below) - Back Wall\n",
    "* $51 \\Omega$ resistor - GSI Desk\n",
    "* Wires (about 2) - GSI Desk\n",
    "\n",
    "<br>"
   ]
  },
  {
   "cell_type": "markdown",
   "metadata": {},
   "source": [
    "### <span style=\"color:blue\">Function Generator</span>\n",
    "\n",
    "To replicate the voltage on the capacitor, the triangle wave, we will use a function generator. Our function generator is a Keysight 33220A, pictured below.\n",
    "\n",
    "**Read through the [Function Generator](https://docs.google.com/document/u/2/d/e/2PACX-1vTVrGBDbRfVI0_LjSeTfw8doili8iS_E_9Fwdk2UShgf7WAgVVoHtyMOpjXadXwD45HNXUbb2ASF18H/pub#h.nsm60o6xf8cy) section of our lab equipment guide (can also be found under the resources tab on the website) for an overview of the equipment. It will help you through implementing the following exercises. Lab specific details will be in the following paragraphs.**\n",
    "\n",
    "\n",
    "<br>\n",
    "\n",
    "<center><img src=\"img/33220a.jpg\" style=\"height:250px\"></center>"
   ]
  },
  {
   "cell_type": "markdown",
   "metadata": {},
   "source": [
    "<center><img src=\"img/coax.jpg\" style=\"height:200px\"></center>\n",
    "\n",
    "The function generator probe will help us replicate the voltage behavior of the capacitor. The red lead represents the positive supply line, and the black one ground. To use it, we will need to use the $51 \\Omega$ resistor in the following way:\n",
    "\n",
    "<br>\n",
    "\n",
    "<center><img src=\"img/partial_circuit_sig.png\" style=\"height:500px\"></center>"
   ]
  },
  {
   "cell_type": "markdown",
   "metadata": {},
   "source": [
    "Recall the voltage output behavior of the capacitor when given a square wave current source.\n",
    "\n",
    "The capacitor integrated the square wave current, outputting a triangle wave. The triangle wave had two intensities - one without touch and one with touch. From the simulation, we saw that without touch, the max voltage was about $4.5V$, and with touch was about $1.5V$. To keep things simple, we'll go with $4V$ and $1V$. However, the function generator expects peak to peak voltages, so we need to multiply these values by 2 to get the peak to peak voltages of $8V$ and $2V$. To generate the triangle wave for our circuit, please follow these directions:\n",
    "\n",
    "**1. Turn on the tool by pressing the power button, located at the bottom left corner of the tool.**\n",
    "\n",
    "**2. If the screen says \"Remote\" on the right side of the screen, press the \"Graph/Local\" button above the on/off button. The remote symbol on the right side of the screen should now be replaced with a sine wave. Once you have the sine wave on the right side of the screen, you're good to go. (FYI, this step allows us to control the tool with the buttons on the front, rather than a remote control like the computer.)**\n",
    "\n",
    "**3. Push \"Ramp\" button to output a triangle/ramp wave. The remote symbol on the right side of the screen should now show a triangle.**\n",
    "\n",
    "**4. Push \"Freq/Period\" button (the first blue button below the screen) to adjust the period of the triangle wave. Now, \"Period\" should be highlighted. (If not, push the button again.) Adjust the period to $500 ms$ by the number pad, knob and arrow keys.**\n",
    "\n",
    "**5. Push \"Ampl/HiLevel\" button (\"Ampl\" should be highlighted\") to check the amplitude of the wave. Set the amplitude to the \"No Touch\" equivalent voltage of $8Vpp$, which is the peak to peak value as shown on the right side of the screen.**\n",
    "\n",
    "**6. Push \"Symmetry\" button (\"Symmetry\" should be highlighted). Set the symmetry to 50% to get symmetrial triangle outputs.**\n",
    "\n",
    "**7. Now, you have finished the setup and the function generator is generating a triangle wave with $500 ms$ period and $8V$ peak to peak amplitude. Hook up the probe to the output line of the function generator and hit `output`.**"
   ]
  },
  {
   "cell_type": "markdown",
   "metadata": {},
   "source": [
    "<span style=\"color:red\"><b>Does the LED light up and turn off the way you thought it would?</b></span>\n",
    "\n",
    "Revisit your simulations to see if your circuit is behaving as expected. If not, try to debug the circuit by first turning turning off the output of the power supply and function generator, then double checking your circuit.\n",
    "\n",
    "Spend about 5 minutes trying to fix your circuit. If you need help, please ask the TA or an ASE to come take a look! You'll get a better eye for these things as you build more circuits!"
   ]
  },
  {
   "cell_type": "markdown",
   "metadata": {},
   "source": [
    "### <span style=\"color:blue\">Simulating a Touch</span>\n",
    "\n",
    "\n",
    "To simulate a touch, select **\"Ampl/HiLevel\"** and turn the knob so that the $Vpp$ reaches $2Vpp$. This is the voltage on the capacitor when there is a touch registered. See what effect it has on your circuit - does it match with the simulations from the above sections? Observe what happens as you play with the $Vpp$ value. **Make sure you can create a connection between the physical realisation of the circuit and the simulations you plotted above.**"
   ]
  },
  {
   "cell_type": "markdown",
   "metadata": {},
   "source": [
    "### <span style=\"color:blue\">Now What?</span>\n",
    "\n",
    "Due to time constraints of section, we will connect the touchscreen to the comparator circuit in the next lab. Please hold on to both the copper touchscreen as well as your capacitor circuit and make sure to keep them safe, as we will be needing them next lab!"
   ]
  },
  {
   "cell_type": "markdown",
   "metadata": {},
   "source": [
    "<a id='feedback'></a>\n",
    "## Feedback\n",
    "Please help us improve our labs by submitting **anonymous** feedback at [tinyurl.com/16a-lab-feedback](https://docs.google.com/forms/d/e/1FAIpQLScvqdGYzfsHlMQhSoquETT8FRLR-lA_hp8y8wwbumn9orXuFg/viewform?usp=sf_link). This is fully optional, but your submissions let us know what's going well and what could be improved!"
   ]
  },
  {
   "cell_type": "markdown",
   "metadata": {},
   "source": [
    "<a id='checkoff'></a>\n",
    "## Checkoff\n",
    "When you are ready to get checked off, fill out the checkoff google form. **[Checkoff Form](https://docs.google.com/forms/d/e/1FAIpQLSc6AEapc5xrVjHGzRgEdsHLcZBKVZ9aFR_TYMx00UNBFJ916g/viewform?usp=sf_link)**\n",
    "\n",
    "Your GSI or a Lab Assistant will join you when they are available and go through some checkoff questions with your group. They will go through the checkoff list in order. Please be patient!\n",
    "\n",
    "## <span style='color:red;font-weight:bold'>Do not take apart your setup!</span>\n",
    "\n",
    "Please hold on to your circuit and touchscreen for next lab. Feel free to also take a picture of your setup for reference!\n",
    "\n",
    "<!--\"Oh hey.\" - Thomas-->\n",
    "<!--\"Oh hey, didn't see you there\" - Seiya -->\n",
    "<!--\"We out here again in 2019\" - Seiya, circa 2019-->\n",
    "<!--\"Hi we still out here in 2019\" - Leyla, 2019 -->\n",
    "<!-- \"We're back in twenty-twenty-toooooo - Raghav, 2022 -->\n",
    "<!-- \"hello future friends\" - Ayush, summer 2022 -->\n",
    "<!-- \"Hi hi how's it going\" - Shuming, fall 2022 -->"
   ]
  }
 ],
 "metadata": {
  "anaconda-cloud": {},
  "kernelspec": {
   "display_name": "Python 3",
   "language": "python",
   "name": "python3"
  },
  "language_info": {
   "codemirror_mode": {
    "name": "ipython",
    "version": 3
   },
   "file_extension": ".py",
   "mimetype": "text/x-python",
   "name": "python",
   "nbconvert_exporter": "python",
   "pygments_lexer": "ipython3",
   "version": "3.8.5"
  }
 },
 "nbformat": 4,
 "nbformat_minor": 1
}
