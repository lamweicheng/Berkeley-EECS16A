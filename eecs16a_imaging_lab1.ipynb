{
 "cells": [
  {
   "cell_type": "markdown",
   "metadata": {},
   "source": [
    "# Imaging Lab 1: Building a Light Sensor and Breadboarding Introduction\n",
    "\n",
    "### EECS 16A: Designing Information Devices and Systems I, Fall 2022\n",
    "\n",
    "<!--- Linda Du     (ljdu@berkeley.edu)\n",
    "      Leyla Kabuli (lakabuli@berkeley.edu) \n",
    "      Seiya Ono    (scono12@berkeley.edu)\n",
    "---->"
   ]
  },
  {
   "cell_type": "markdown",
   "metadata": {},
   "source": [
    "\n",
    "## Table of Contents\n",
    "\n",
    "* [Instructions](#instructions)\n",
    "* [Lab Policies](#policies)\n",
    "* [Assistance](#questions)\n",
    "* [Equipment Overview](#equip)\n",
    "    * [Power Supply Unit](#psu)\n",
    "    * [Oscilloscope](#oscope)\n",
    "<br/><br/>    \n",
    "* [Obtain a Lab Kit](#kit)\n",
    "* [Introduction](#intro)\n",
    "  * [System Overview](#overview)\n",
    "  * [Circuit Symbols and Concepts](#review)\n",
    "<br/><br/>   \n",
    "* [Task 1: Breadboarding](#task1)\n",
    "* [Task 2: Setting Up the Ambient Light Sensor](#task2)\n",
    "* [Task 3:  Connecting the Launchpad](#task3)\n",
    "* [Task 4: Virtual Oscilloscopes](#task4)\n",
    "* [Checkoff](#checkoff)\n",
    "* [Additional Resources](#extra)"
   ]
  },
  {
   "cell_type": "markdown",
   "metadata": {},
   "source": [
    "<a id='instructions'></a>\n",
    "## Instructions\n",
    "\n",
    "* **Gently disinfect all commonly touched surfaces** at your lab station using the provided cleaning wipes.\n",
    "\n",
    "\n",
    "* Complete this lab by filling in all of the required sections, marked with `\"YOUR CODE HERE\"` or `\"YOUR COMMENTS HERE\"`.\n",
    "\n",
    "\n",
    "* When you finish, submit a checkoff request to get checked off for this lab. Be ready to answer a few questions to show your understanding of each section.\n",
    "\n",
    "\n",
    "* Labs will be graded based on completion for teams of 2 students."
   ]
  },
  {
   "cell_type": "markdown",
   "metadata": {},
   "source": [
    "<a id='policies'></a>\n",
    "## Lab Policies\n",
    "* **YOU MUST ATTEND THE LAB SECTION YOU ARE ENROLLED IN. If you anticipate missing a section, please notify your GSI in advance.**\n",
    "* **You are required to return all parts checked out at the beginning of the lab section unless told otherwise.** \n",
    "* **You are free to stay for the full allotted time and hack around with the lab equipment, but please reserve the GSI's time for lab-related questions.**\n",
    "* **Food and drinks are not allowed in the lab.** \n",
    "* **Clean up, turn off all equipment, and log off of computers before leaving.**"
   ]
  },
  {
   "cell_type": "markdown",
   "metadata": {},
   "source": [
    "<a id='questions'></a>\n",
    "\n",
    "## Assistance\n",
    "Whenever you have a question, please just raise your hand and a member of lab staff will join you to help."
   ]
  },
  {
   "cell_type": "markdown",
   "metadata": {},
   "source": [
    "<a id='equip'></a>\n",
    "## Equipment Overview\n",
    "\n",
    "This section is meant to introduce you to some of the equipment at your station, which will be used in this lab and future labs. **<span style=\"color:red\">You will find all the information to correctly use each piece of equipment in this [EECS16A Lab Equipment Guide](https://docs.google.com/document/d/e/2PACX-1vTVrGBDbRfVI0_LjSeTfw8doili8iS_E_9Fwdk2UShgf7WAgVVoHtyMOpjXadXwD45HNXUbb2ASF18H/pub#h.xzcoxtym09nb) and you should continue to refer to it whenever you have any questions regarding lab equipment usage for all future labs.</span>**\n",
    "\n",
    "\n",
    "In the next 2 parts you will read over the **Power Supply Unit (PSU)** and **Oscilloscope** sections.\n",
    "<a id='psu'></a>\n",
    "### Power Supply Unit (PSU)\n",
    "At your lab station you will find a device which looks like this:\n",
    "<center>\n",
    "<img src=\"images/supply.jpg\" align=\"center\" style=\"height:180px\" />\n",
    "</center>\n",
    "You can think of this device as a controllable battery that allows you to specify its voltage and current outputs.<br/><br/>\n",
    "\n",
    "**<span style=\"color:red\">First read all 4 subsections of [the PSU instructions](https://docs.google.com/document/d/e/2PACX-1vTVrGBDbRfVI0_LjSeTfw8doili8iS_E_9Fwdk2UShgf7WAgVVoHtyMOpjXadXwD45HNXUbb2ASF18H/pub#h.umhetktvdzwu) then do the following PSU setup steps.</span>** You should be repeating these steps each time before using the PSU and referring to the EECS16A Lab Equipment Guide for details.<br/>\n",
    "\n",
    "You may reference the gif below when setting up the PSU. <br/>\n",
    "<center>\n",
    "<img src=\"images/psu-setup.gif\" align=\"center\" style=\"height:280px\" />\n",
    "</center><br/>\n",
    "\n",
    "\n",
    "Note: In this exercise, we only use the `+6V` channel.\n",
    "\n",
    "**<span style=\"color:red\">Do the following steps.</span>**\n",
    "1. **Get 2 PSU cables** (one black and one red) hanging from the back walls<br/>\n",
    "2. **Turn the PSU on**<br/>\n",
    "3. **Select output channel(s) to use**. Pick the +6V channel and insert the cables into the corresponding ports<br/>\n",
    "4. **Set the current limit** of the +6V channel to <span style=\"color:red\">0.1 A</span><br/>\n",
    "5. **Set the voltage** of the +6 channel to to 3.3 V<br/>\n",
    "6. **Turn the output ON**<br/>\n",
    "7. Between uses and after finishing, **Turn the output OFF**<br/>\n",
    "8. When you are finished using the PSU, turn the PSU power off. <br/> \n"
   ]
  },
  {
   "cell_type": "markdown",
   "metadata": {},
   "source": [
    "**<span style=\"color:red\">Answer the following questions about the PSU.</span>**<br/><br/>\n",
    "1.What do the numbers in the channel names represent?"
   ]
  },
  {
   "cell_type": "markdown",
   "metadata": {},
   "source": [
    "`YOUR ANSWER HERE`"
   ]
  },
  {
   "cell_type": "markdown",
   "metadata": {},
   "source": [
    "2.What is the default current limit we should use in all 16A labs?"
   ]
  },
  {
   "cell_type": "markdown",
   "metadata": {},
   "source": [
    "`YOUR ANSWER HERE`"
   ]
  },
  {
   "cell_type": "markdown",
   "metadata": {},
   "source": [
    "<a id='oscope'></a>\n",
    "### Oscilloscope\n",
    "You will also find the following equipment at your lab station. \n",
    "<center>\n",
    "<img src=\"images/scope.jpg\" align=\"center\" style=\"height:200px\" />\n",
    "</center>\n",
    "The oscilloscope is another useful piece of test equipment that can be used to measure signals (usually <b>voltage readings</b>) that change over time. Unlike a voltmeter, which only shows the instantaneous voltage value, the oscilloscope shows a graph of a voltage versus time. This is particularly useful for measuring how devices like sensors respond to inputs. Although this instrument may appear complicated, half of the knobs are just to adjust the axes of the voltage plot.\n",
    "\n",
    "**<span style=\"color:red\">Read the EECS16A Lab Equipment Guide [Osilloscope section](https://docs.google.com/document/d/e/2PACX-1vTVrGBDbRfVI0_LjSeTfw8doili8iS_E_9Fwdk2UShgf7WAgVVoHtyMOpjXadXwD45HNXUbb2ASF18H/pub#h.68cks3ejgw6r), then do the following steps.</span>** Again, these are important setup steps you should do each time before using the equipment.\n",
    "\n",
    "\n",
    "1. **Get oscilloscope probe** from the back wall. Make sure one end has a spring loaded clip.<br/>\n",
    "2. **Turn oscilloscope on**<br/>\n",
    "3. **Test the probe** -- refer to guide for details<br/>\n",
    "4. **Connect probe to circuit** (hypothetical for now)<br/>\n",
    "5. **Adjust the scale of graph by using the \"Auto Scale\" button**<br/>\n"
   ]
  },
  {
   "cell_type": "markdown",
   "metadata": {},
   "source": [
    "**<span style=\"color:red\">Answer the following questions about the oscilloscope.</span>**<br/><br/>\n",
    "1.What type of waveform should you see when testing the oscilloscope probe?"
   ]
  },
  {
   "cell_type": "markdown",
   "metadata": {},
   "source": [
    "`YOUR ANSWER HERE`"
   ]
  },
  {
   "cell_type": "markdown",
   "metadata": {},
   "source": [
    "2.How do you check if a certain channel is on?"
   ]
  },
  {
   "cell_type": "markdown",
   "metadata": {},
   "source": [
    "`YOUR ANSWER HERE`"
   ]
  },
  {
   "cell_type": "markdown",
   "metadata": {},
   "source": [
    "<a id='kit'></a>\n",
    "## Obtain a Lab Kit"
   ]
  },
  {
   "cell_type": "markdown",
   "metadata": {},
   "source": [
    "<span style=\"color:red\"> After reading through the Equipment Overview, fill out [this lab kit request form](https://docs.google.com/forms/d/e/1FAIpQLScRLcTvPXeZpk6WWg-XudpDoqmpMlq1J2ThHwb9U0ReI4guKQ/viewform?usp=sf_link) to call staff over. You'll receive your kit once you demonstrate that you can use the equipment safely. **Each student must submit their own form; *i.e.*, 2 forms per pair.**</span>\n",
    "1. **Show your answers to the above 4 questions**\n",
    "2. **Properly set a current limit and voltage on the PSU**\n",
    "3. **Test an oscilloscope probe**\n",
    "___\n",
    "\n",
    "## <center> <span style=\"color:red\"> DON'T MOVE ON WITHOUT RECEIVING A LAB KIT FROM LAB STAFF </span> </center> "
   ]
  },
  {
   "cell_type": "markdown",
   "metadata": {},
   "source": [
    "Your lab kit consists of the following:\n",
    "1. TI Launchpad MSP430 + cable\n",
    "1. Clear bag with smaller electrical components\n",
    "1. Breadboard\n",
    "\n",
    "<span style=\"color:red\">**Read the [Lab Kit](https://docs.google.com/document/d/e/2PACX-1vTVrGBDbRfVI0_LjSeTfw8doili8iS_E_9Fwdk2UShgf7WAgVVoHtyMOpjXadXwD45HNXUbb2ASF18H/pub#h.cmep78qqg6ul) section** of the EECS16A Lab Equipment Guide and make sure **you can name each of the individual lab kit components** you have received.</span>\n",
    "\n",
    "You will be getting one (and only one) kit per person. It is your responsibility to **bring all 3 parts of the kit to every lab session.** Everything in the kit, including the TI Launchpad MSP430, is yours to keep. All members of each lab group should *bring their own lab kit + launchpad + breadboard every week* so there are extra materials. It is likely that someone may forget their kit or something may break.\n",
    "\n",
    "That being said, if you lose anything or something breaks, we can supply you with replacement parts; however, you may have to pay for the replacement parts."
   ]
  },
  {
   "cell_type": "markdown",
   "metadata": {},
   "source": [
    "**<span style=\"color:red\">Answer the following questions about the components in the clear bag in your lab kit.</span>**<br/>\n",
    "1. How many jumper wires are in your kit, and what kinds are they? "
   ]
  },
  {
   "cell_type": "markdown",
   "metadata": {},
   "source": [
    "`YOUR ANSWER HERE`"
   ]
  },
  {
   "cell_type": "markdown",
   "metadata": {},
   "source": [
    "2. What is the component that is clear/white with a flat top called? Which leg of it is the positive leg, short or long? "
   ]
  },
  {
   "cell_type": "markdown",
   "metadata": {},
   "source": [
    "`YOUR ANSWER HERE`"
   ]
  },
  {
   "cell_type": "markdown",
   "metadata": {},
   "source": [
    "3. What 3 things should each person bring to every lab section from now on?"
   ]
  },
  {
   "cell_type": "markdown",
   "metadata": {},
   "source": [
    "`YOUR ANSWER HERE`"
   ]
  },
  {
   "cell_type": "markdown",
   "metadata": {},
   "source": [
    "<a id='intro'></a>\n",
    "## Imaging Introduction\n",
    "\n",
    "Welcome to the first lab in the imaging module! The goal of this module is to build the imaging system introduced in class. The physical components of this system include a pico projector, ambient light sensor, some passive electronics, and a [TI MSP430 Launchpad](http://www.ti.com/ww/en/launchpad/launchpad.html?DCMP=rtos&HQS=ep-sdo-rtos-pr-lp-launchpad-en) microcontroller. The complete setup of the imaging system is shown below. \n",
    "<br><br>\n",
    "<center>\n",
    "<img src=\"images/old_setup.jpg\" style=\"width:550px\" />\n",
    "</center>\n",
    "\n",
    "We will not be using the projector or stand today; you will build the complete setup in the next lab.\n",
    "\n",
    "<a id='overview'></a>\n",
    "### System Overview\n",
    "The following figure shows a high-level block model of our imaging system. Here is the system flow: \n",
    "\n",
    "1. The ambient light sensor converts light energy into electrical current; more ambient light leads to more current. \n",
    "2. The current produced by the ambient light sensor then travels through passive electrical components. This translates the current into a detectable signal (a voltage signal). \n",
    "3. The TI Launchpad reads this signal, digitizes it, and sends it to the PC. \n",
    "4. The digitized signal gets converted into an image by some linear algebra code written in your Jupyter (iPython) notebook. Further improvements are made via software to increase the quality of the image.\n",
    "\n",
    "<center>\n",
    "<img src=\"images/systemdiagram.png\" style=\"height:300px\" />\n",
    "</center>\n",
    "\n",
    "Digital images are composed of a grid of [pixels](http://en.wikipedia.org/wiki/Pixel), each of which represents a single color. To create a digital representation, optical imaging systems measure the energy, equivalent to light in this case, reflected off of objects to determine the values of these pixels. Because different colors reflect different amounts of light, measurements of reflected light intensity can be used to differentiate between colors.\n",
    "<br/><br/>\n",
    "\n",
    "<center>\n",
    "<img src=\"images/overview.svg\" style=\"height:256px\"/>\n",
    "</center>\n",
    "\n",
    "Commercial cameras, such as those found in smartphones, use chips called CMOS image sensors to measure millions of pixel values at a time (think of this as millions of devices akin to the ambient light sensor that all fit on an approximately 30mm$^2$ chip). In contrast, our system can only measure one light intensity value at a time, so we will instead use a controlled energy source, the projector, to illuminate specific regions of the image. We then use the ambient light sensor to record the energy that reflects off of those regions.\n",
    "\n",
    "The ambient light sensor converts light to induce a flow of electrons. The circuit then outputs a voltage that changes in real time, depending on the light intensity. The voltage can be thought of as a real \"analog\" value, serving as a starting point for being able to represent our image on a computer. We use a microcontroller (Launchpad) to take samples of the voltage signal and convert them to a set of digital numbers that we can then use in our Jupyter (iPython) notebook.\n",
    "\n",
    "<a id='review'></a>\n",
    "### Circuit Symbols and Concepts\n",
    "The table below shows the circuit symbols relevant to this lab and pictures of the real components they represent. Don't feel intimidated if you don't know what these things are. **At this point in the course, you are NOT expected to know what these components are or what they are supposed to do.** You will eventually master these components during the circuits part of 16A. But if you're curious and need to know now, Wikipedia is your friend in this case.\n",
    "<br>\n",
    "<center>\n",
    "<img src=\"images/circuitsymbols.png\" align=\"center\" style=\"height:300px\"/>\n",
    "</center>\n",
    "<br/>\n",
    "A voltage is defined as a difference in electric potential between two points. For example, the voltage source we will be using in this lab has a potential difference of $+3.3V$ between its positive and negative terminals. Because a voltage must be defined across two points, it is often convenient to define a common point in a circuit as a reference. This reference voltage, commonly referred to as \"ground\" (GND), is defined by convention to be $0V$, and therefore allows us to conveniently describe voltages at any point in the circuit with respect to $0V$.  "
   ]
  },
  {
   "cell_type": "markdown",
   "metadata": {},
   "source": [
    "<a id='task1'></a>\n",
    "## <span style=\"color:blue\">Task 1: Breadboarding Basics</span>\n",
    "\n",
    "Breadboards (the rectangular blocks in your lab kit) are useful tools that can be used to quickly and easily prototype circuits. The purpose of the breadboarding basics part of this lab is to familiarize you with converting circuit diagrams into breadboard layouts. The skills you pick up in this task will help the following labs go much faster.\n",
    "<img style=\"height: 300px;\" src=\"images\\bb_intro_1.png\"/></div>"
   ]
  },
  {
   "cell_type": "markdown",
   "metadata": {},
   "source": [
    "<a id='task4c'></a>\n",
    "## <span style=\"color:blue\">Task 1a: Breadboarding Intuition</span>\n",
    "\n",
    "## Circuits Background\n",
    "**Circuit with Resistor and LED in Series**\n",
    "\n",
    "![schematic](images/diag.png)\n",
    "\n",
    "The circuit we will be working with has the following components:\n",
    "1. **LED** - lights up when a high enough current flows through it in the correct direction. **Current should flow into the long leg (+) and out of the short leg (-)**\n",
    "1. **Resistor** - resists the flow of current through it by dropping the voltage across it\n",
    "1. **Power Supply Unit (PSU)** - creates a fixed potential difference across its + and - ports\n",
    "1. **Wire** - conductive metal which lets current flow through it. Has the same potential along all points on it\n",
    "\n",
    "Current flows from high to low potential so it'll come out of the + port of the PSU looking for least resistive paths to get to the - port of the PSU. In our schematic, the current will first flow out of the + terminal of the PSU, through the LED (if the LED polarity is correct), then the resistor, before reaching the - terminal of the PSU. \n",
    "\n",
    "\n",
    "![current flow](images/diag_current.png)\n"
   ]
  },
  {
   "cell_type": "markdown",
   "metadata": {},
   "source": [
    "Now we will walk through a couple of exercises to get more familiar with breadboarding and its benefits! For the following 3 exercises we will be trying to build the same schematic.\n",
    "\n",
    "\n",
    "#### Materials & Equipment\n",
    "Make sure you (still) have the following at your station:\n",
    "- PSU (Power Supply Unit) cable, 1x black and 1x red - from back wall\n",
    "- Oscilloscope probe - from back wall\n",
    "- 1x LED - from lab kit\n",
    "- 1x resistor (1k $\\Omega$) - from TA desk\n",
    "- pin-to-pin wires - from lab kit\n",
    "- 1x breadboard - from lab kit\n",
    "\n",
    "**<span style=\"color:red\">Reminder to use [this doc](https://docs.google.com/document/d/e/2PACX-1vTVrGBDbRfVI0_LjSeTfw8doili8iS_E_9Fwdk2UShgf7WAgVVoHtyMOpjXadXwD45HNXUbb2ASF18H/pub#h.xzcoxtym09nb) for any questions regarding equipment usage.</span>**\n",
    "\n",
    "## Step 1: No Breadboard\n",
    "<img style=\"height: 300px;\" src=\"images/diag.png\"/></div>\n",
    "\n",
    "\n",
    "First let's see how we can build the above schematic without using a breadboard.\n",
    "\n",
    "1. Clip the + PSU cable to the long leg of LED\n",
    "1. Clip the - PSU cable to one resistor leg\n",
    "1. Touch the short leg of the LED to the other leg of the resistor\n",
    "1. Set the PSU to 3.3 V (current limit 0.1 A) and turn on the PSU\n",
    "\n",
    "<img style=\"height: 200px;\" src=\"images\\withoutbreadboard.png\"/></div>\n",
    "\n",
    "\n",
    "Did the LED light up for you? Try imagining the current flow through your circuit and convince yourself that it's exactly the same as the schematic we have."
   ]
  },
  {
   "cell_type": "markdown",
   "metadata": {},
   "source": [
    "**ANSWER THE FOLLOWING QUESTIONS:**"
   ]
  },
  {
   "cell_type": "markdown",
   "metadata": {},
   "source": [
    "<font color=\"red\">\n",
    "1. Use the oscilloscope probe to measure the voltage difference between the PSU ground and any point on the wire between LED and resistor. (Do this by attaching the black clip to the metal of the black PSU cable and clipping the gray spring loaded tip to the point you want to measure.) What is the value of the voltage reading on the oscilloscope screen?\n",
    "</font>"
   ]
  },
  {
   "cell_type": "markdown",
   "metadata": {},
   "source": [
    "`YOUR ANSWER HERE`"
   ]
  },
  {
   "cell_type": "markdown",
   "metadata": {},
   "source": [
    "<font color=\"red\">\n",
    "2. Now move the gray tip to a different point on the same segment of wire(/s) between the LED and resistor. Did the voltage reading change? What is true about the voltage reading at all points on a wire/conductor?\n",
    "</font>"
   ]
  },
  {
   "cell_type": "markdown",
   "metadata": {},
   "source": [
    "`YOUR ANSWER HERE`"
   ]
  },
  {
   "cell_type": "markdown",
   "metadata": {},
   "source": [
    "<font color=\"red\">\n",
    "3. What is the voltage when you move the oscilloscope probe to the long leg of the LED?\n",
    "</font>"
   ]
  },
  {
   "cell_type": "markdown",
   "metadata": {},
   "source": [
    "`YOUR ANSWER HERE`"
   ]
  },
  {
   "cell_type": "markdown",
   "metadata": {},
   "source": [
    "<font color=\"red\">\n",
    "4. What about to the resistor leg that connects to (-) black PSU port?\n",
    "</font>"
   ]
  },
  {
   "cell_type": "markdown",
   "metadata": {},
   "source": [
    "`YOUR ANSWER HERE`"
   ]
  },
  {
   "cell_type": "markdown",
   "metadata": {},
   "source": [
    "We have discovered one way to build our circuit schematic! However, you can probably already tell that this method is not very scalable especially if you and your partner are still physically holding the legs together. Now imagine our schematic was more complex, with more resistors and LEDs. It would be hard to manually keep all the components together with proper connection and your circuit would end up being very fragile and messy.\n",
    "\n",
    "\n",
    "## Step 2: Breadboarding with Power Rails\n",
    "Now let's try taking advantage of the breadboard to implement the same schematic! Make sure the PSU is turned off before starting.\n",
    "\n",
    "1. Insert the LED and resistor into the breadboard like in the image below. Make sure the longer LED leg is higher on the breadboard (smaller row number).\n",
    "1. Clip the red PSU cable to one end of a <font color=\"red\">red</font> pin-to-pin wire and do the same with the black PSU wire and a **black** pin-to-pin wire.\n",
    "1. Insert the red PSU jumper wire into the + rail and the black PSU jumper wire into the - rail on the **left** side of the breadboard. Note that the + and - rails may be different on your breadboard depending on its orientation. The + rail should be the red one and the - rail should be the the blue one.\n",
    "1. Use 1 pin-to-pin wire to connect the + rail to the row with the long LED leg. \n",
    "1. Use another pin-to-pin wire to connect the - rail to the resistor leg.\n",
    "1. Turn PSU on (3.3 V)\n",
    "\n",
    "<img style=\"height: 300px;\" src=\"images\\ex3_breadboard.png\"/></div>\n",
    "\n",
    "**Did the LED light up again? Why is this also a valid construction of the same circuit schematic?** \n",
    "\n",
    "The answer has to do with how a breadboard is internally connected (see image below). The 5 holes in each row (ABCDE or FGHIJ) are electrically connected to each other within the breadboard (underneath the plastic) so we can imagine tiny jumper wires connecting all of the 5 holes to each other. Since these 5 holes are connected, they are all on the same node and should have the same potential. The 2 columns of holes (a red +  and blue - column) on the side of your breadboard are often referred to as the power rails. Instead of horizontal internal connections, the power rails are connected vertically all the way down the side.\n",
    "\n",
    "<center>\n",
    "<img style=\"height: 400px;\" src=\"images/breadboard.png\"/>\n",
    "</center>\n",
    "\n",
    "Notice how there is a separate piece of conductive metal connecting each row of columns ABCDE and FGHIJ. The metal row splits between columns E and F so the 2 sides of each row can have different voltage readings. The same is true for all 4 power rails. Even though the 2 sets look the same, they are in no way internally linked.\n",
    "\n",
    "<img style=\"height: 200px;\" src=\"images\\breadboard_pulled_rail.jpg\"/></div>\n",
    "\n",
    "<span style = \"color:red\"> **Note: You should not insert two wires/component legs into the same hole on the breadboard.** </span>\n",
    "\n",
    "**Keeping in mind that current will flow through all the metal internal breadboard connections, convince yourself again that this circuit has current flowing through the LED and resistor in the same exact way as in the previous circuit setup.**"
   ]
  },
  {
   "cell_type": "markdown",
   "metadata": {},
   "source": [
    "**ANSWER THE FOLLOWING QUESTIONS ABOUT YOUR BREADBOARDED CIRCUIT:** <br> <br>"
   ]
  },
  {
   "cell_type": "markdown",
   "metadata": {},
   "source": [
    "<font color=\"red\">\n",
    "<b>Clip one end of a pin-to-pin wire to the gray oscilloscope probe. Clip the black (ground) clip of the oscilloscope probe to the black wire in your '-' column on the breadboard. </b> <br>\n",
    "</font>"
   ]
  },
  {
   "cell_type": "markdown",
   "metadata": {},
   "source": [
    "<font color=\"red\">\n",
    "1. Insert the free end of the oscilloscope wire into multiple holes in the left set of (+) and (-) rails on the breadboard. What are their voltage readings?\n",
    "</font>  "
   ]
  },
  {
   "cell_type": "markdown",
   "metadata": {},
   "source": [
    "`YOUR ANSWER HERE`"
   ]
  },
  {
   "cell_type": "markdown",
   "metadata": {},
   "source": [
    "<font color=\"red\">\n",
    "2. Probe multiple holes of the row the LED and resistor leg share. Is this voltage reading the same as in the previous section's number 1 and 2?\n",
    "</font>"
   ]
  },
  {
   "cell_type": "markdown",
   "metadata": {},
   "source": [
    "`YOUR ANSWER HERE`"
   ]
  },
  {
   "cell_type": "markdown",
   "metadata": {},
   "source": [
    "<font color=\"red\">\n",
    "3. Move the LED to the right half of the breadboard by moving it to **column J** while keeping the 2 legs in the same rows. Did the LED light up? Is the breadboard internally connected across the gap (between col E and F)?\n",
    "</font>"
   ]
  },
  {
   "cell_type": "markdown",
   "metadata": {},
   "source": [
    "`YOUR ANSWER HERE`"
   ]
  },
  {
   "cell_type": "markdown",
   "metadata": {},
   "source": [
    "<font color=\"red\">\n",
    "4. Do you need the 2 jumper wires (from the rails to the middle of the board) in the above picture? Move your resistor and LED so that you don't need those jumpers. Does the LED still light up?\n",
    "</font>"
   ]
  },
  {
   "cell_type": "markdown",
   "metadata": {},
   "source": [
    "`YOUR ANSWER HERE`"
   ]
  },
  {
   "cell_type": "markdown",
   "metadata": {},
   "source": [
    "<a id='task4b'></a>\n",
    "## <span style=\"color:blue\">Task 1b: Breadboard Debugging</span>\n",
    "\n",
    "Take a look at the breadboard on the left and compare it to the circuit diagram on the right. Assuming the ground rails are plugged in correctly (+ is +3.3V, - is GND), can you identify **two** differences between the breadboarded circuit and the circuit diagram? What will happen if the circuit is plugged in? What will happen if you fix the circuit to be identical to the circuit diagram and then plug it in? Feel free to build both the 'buggy' and correct circuits on your breadboard to compare them!"
   ]
  },
  {
   "cell_type": "markdown",
   "metadata": {},
   "source": [
    "<center style=\"font-size: 18px; font-weight: bold;\">\n",
    "<div style=\"display: inline-block; margin-left: auto; margin-right: auto; margin-bottom: 14px;\" border=\"0\"><div>Breadboard Image</div>\n",
    "<img style=\"height: 500px;\" src=\"images\\touch_1_bb2_1.png\"/></div>\n",
    "\n",
    "<div style=\"display: inline-block; margin-left: 10px; margin-right: auto; margin-bottom: 14px;\" border=\"0\"><div>Intended circuit diagram</div>\n",
    "<img style=\"height: 500px;\" src=\"images\\touch_1_sc2_1.png\"/></div>\n",
    "\n",
    "</center>"
   ]
  },
  {
   "cell_type": "markdown",
   "metadata": {},
   "source": [
    "**<span style=\"color:red\">What are the problems with the buggy breadboard? If you are having trouble identifying the issue, try and recreate the breadboard, and power it with the PSU set to $3.3V$ and $0.1A$ so that the LED lights up.</span>**\n",
    "\n",
    "Hint: Try to follow the current like you did above, travelling clockwise throught the components, starting at the (+) of the PSU."
   ]
  },
  {
   "cell_type": "markdown",
   "metadata": {},
   "source": [
    "`YOUR ANSWER HERE` <br><br>"
   ]
  },
  {
   "cell_type": "markdown",
   "metadata": {},
   "source": [
    "<a id='task2'></a>\n",
    "## <span style=\"color:blue\">Task 2: Setting Up the Ambient Light Sensor</span>\n",
    "#### Materials & Equipment\n",
    "* **From the Lab Kit or TA Desk**\n",
    "<br/><br/>\n",
    "<center>\n",
    "<table>\n",
    "<tr>\n",
    "<td width=\"180px\" style=\"border: 1px solid #000000;\"><center>1x Ambient Light Sensor</center></td>\n",
    "    <td width=\"180px\" style=\"border: 1px solid #000000;\"><center>1x <b>100k$\\Omega$</b> Resistor<br/><b>[Brown-Black-Yellow-Gold]</b></center></td>\n",
    "<td width=\"180px\" style=\"border: 1px solid #000000;\"><center>1x Breadboard</center></td>\n",
    "<td width=\"180px\" style=\"border: 1px solid #000000;\"><center>2x Pin-to-Pin Jumper Wires with Exposed Metal Connections on Both Ends</center></td>\n",
    "</tr>\n",
    "<tr>\n",
    "<td style=\"border: 1px solid #000000;\"><img src=\"images/phototransistor.png\" style=\"width: 180px;\"/></td>\n",
    "<td style=\"border: 1px solid #000000;\"><img src=\"images/res100k.png\" style=\"width: 180px;\"/></td>\n",
    "<td style=\"border: 1px solid #000000;\"><img src=\"images/bb.png\" style=\"width: 180px;\"/></td>\n",
    "<td style=\"border: 1px solid #000000;\"><img src=\"images/mm-jumper.png\" style=\"width: 180px;\"/></td>\n",
    "</table>\n",
    "</center>\n",
    "<br/>\n",
    "* **From the Back Wall** (described earlier)\n",
    "  * 1x Oscilloscope Probe\n",
    "  * 1x Black, 1x Red PSU Cables\n",
    "  \n",
    "<span style=\"color:red\"> \n",
    "Note: \n",
    "</span>  \n",
    "<span style=\"color:red\">  1. This step requires a <b>different resistor</b> than the one used in previous steps. Make sure you have the new resistor on hand.\n",
    "</span> <br />\n",
    "<span style=\"color:red\"> 2. Turn off the PSU output. Now your circuit is not powered and you can safely build/modify your circuit.\n",
    "</span>"
   ]
  },
  {
   "cell_type": "markdown",
   "metadata": {},
   "source": [
    "<center><img src=\"images/task1_schem.svg\" align=\"center\" style=\"height:200px\" /><figcaption>Task 2 Schematic</figcaption></center>\n",
    "<br/>\n",
    "This is an overview of what we are about to do. Step by step instructions are after this. First, we will use the breadboard to construct the circuit shown in the schematic above. Next, we will power the circuit using the PSU, and then we will use the oscilloscope to observe the voltage over time at various points in the circuit, including between points A and B. \n",
    "\n",
    "You can see how the components are connected with the following images:\n",
    "<br/><br/>\n",
    "<center>\n",
    "<img src=\"images/task1_bb.svg\" align=\"center\" style=\"height:600px\" />\n",
    "<figcaption>Cartoon View: How the Circuit Components, Breadboard, and PSU Should Be Hooked Up</figcaption>\n",
    "</center>\n",
    "<br/>\n",
    "<center>\n",
    "<table>\n",
    "<tr>\n",
    "<td><img src=\"images/close-board.jpg\" align=\"center\" /></td>\n",
    "<td><img src=\"images/far-board.jpg\" align=\"center\" /></td>\n",
    "</tr>\n",
    "</table>\n",
    "<figcaption>Actual Setup</figcaption>\n",
    "</center>\n",
    "\n",
    "\n",
    "<span style=\"color:red\">**DO THE FOLLOWING STEPS TO SET UP YOUR LIGHT SENSING CIRCUIT.**</span>\n",
    "\n",
    "<span style=\"color:red\">**Note: Compared to an LED, an ambient light sensor has opposite polarity, so read closely.**</span>\n",
    "1. Connect the shorter leg of the ambient light sensor to any hole in the **<span style=\"color:red\">red (+) column</span>** of the breadboard. Connect the longer leg of the ambient light sensor to any hole that is in a **lettered column** and *NOT* in the <span style=\"color:red\">red (+) column</span> OR the <span style=\"color:blue\">blue (-) column.</span>\n",
    "\n",
    "1. Connect one leg of the 100 $k\\Omega$ resistor to a hole in the **same row** (and side of the breadboard) as the longer leg of the ambient light sensor. Connect the other leg of the resistor to any hole in the **<span style=\"color:blue\">blue (-) column</span>** of the breadboard.  **Be careful to prevent any of the legs from touching.**\n",
    "\n",
    "1. Connect the oscilloscope probe to the oscilloscope. Connect the **black clip** of the oscilloscope probe to the leg of the resistor in the **<span style=\"color:blue\">blue (-) column</span>**, corresponding to **B**. Connect the **<span style=\"color:gray\">gray clip</span>** of the oscilloscope probe to the other leg of the resistor, corresponding to **A** in the circuit.\n",
    "\n",
    "1. Set up the PSU to 3.3V (use the +6V channel) and the current limit to 0.1A.\n",
    "\n",
    "1. Insert the banana plug of a **<span style=\"color:red\"> red power supply lead </span>** into the positive terminal of the PSU (corresponding to the +6V channel). Use a pin-to-pin wire to connect its other end to any hole in the **<span style=\"color:red\">red (+) column</span>** of the breadboard.\n",
    "\n",
    "1. Similarly, insert the banana plug of a **<span style=\"color:black\"> black power supply lead </span>** into the negative terminal of the PSU (corresponding to the +6V channel). Use a pin-to-pin wire to connect its other end to any hole in the **<span style=\"color:blue\">blue (-) column</span>** of the breadboard.\n",
    "\n",
    "1. Turn the PSU output ON and press the `Auto Scale` button on the oscilloscope.\n",
    "\n",
    "\n",
    "**<span style=\"color:red\">What happens to the signal on the oscilloscope as the amount of ambient light changes?</span>** Note: You can change the amount of light by putting your hand over the sensor or shining a flashlight on it.\n"
   ]
  },
  {
   "cell_type": "markdown",
   "metadata": {},
   "source": [
    "`YOUR ANSWER HERE`"
   ]
  },
  {
   "cell_type": "markdown",
   "metadata": {},
   "source": [
    "<a id='task3'></a>\n",
    "## <span style=\"color:blue\">Task 3: Connecting the Launchpad</span>\n",
    "#### Materials & Equipment\n",
    "* **From the Lab Kit**\n",
    "<br/><br/>\n",
    "<center>\n",
    "<table>\n",
    "<tr>\n",
    "<td width=\"180px\" style=\"border: 1px solid #000000;\"><center>1x TI Launchpad MSP430F5529LP</center></td>\n",
    "<td width=\"180px\" style=\"border: 1px solid #000000;\"><center>1x Micro-USB to USB-A Cable (Inside the Launchpad Box)</center></td>\n",
    "<td width=\"180px\" style=\"border: 1px solid #000000;\"><center>3x Socket-to-Pin Jumper Wires; Exposed Metal on One Side </center></td>\n",
    "</tr>\n",
    "<tr>\n",
    "<td style=\"border: 1px solid #000000;\"><img src=\"images/msp.png\" style=\"width: 180px;\"/></td>\n",
    "<td style=\"border: 1px solid #000000;\"><img src=\"images/usb.png\" style=\"width: 180px;\"/></td>\n",
    "<td style=\"border: 1px solid #000000;\"><img src=\"images/mf-jumper.png\" style=\"width: 180px;\"/></td>\n",
    "</table>\n",
    "</center>\n",
    "<br>\n",
    "* **Other Supplies**\n",
    "\n",
    "  * 1x Circuit from Task 2\n",
    "  * 1x Station Computer *(not guaranteed to work with your PC)*\n",
    "\n",
    "The MSP430 Launchpad is a popular [microcontroller](http://en.wikipedia.org/wiki/Microcontroller) -- a small computer on a single chip. Microcontrollers are found at the heart of all embedded devices and have enough processing power to perform simple tasks using very little power. Because of its limited processing capabilities, the Launchpad does not run an operating system like desktop computers or servers. Instead, the device executes a single function continuously in a loop when it is powered on. For this module, our program needs to read a voltage value and send it to a computer via the USB connection. We will now walk through the process of using a Launchpad and uploading code to it.\n",
    "\n",
    "Note: The Launchpad is produced by Texas Instruments and comes in many flavors. The model we will be using throughout the semester is the MSP430F5529. This is the model number you will want to reference whenever prompted.\n",
    "\n",
    "**<span style=\"color:red\">\n",
    "Please read the following subsections of the [MSP section of the equipment guide](https://docs.google.com/document/d/e/2PACX-1vTVrGBDbRfVI0_LjSeTfw8doili8iS_E_9Fwdk2UShgf7WAgVVoHtyMOpjXadXwD45HNXUbb2ASF18H/pub#h.ngmg73bi0zzk) so we can set up the Launchpad to computer connection and upload the file \"LightSensor.ino\". </span>** \n",
    "\n",
    "1. `Handling Instructions`\n",
    "1. `Connecting to a computer`\n",
    "1. `Energia` **(However, as the Windows-based lab station computers already have Energia installed, you can skip the installation instructions.)**\n",
    "1. `Deciphering Ports` (only the **Windows Specific** part)\n",
    "1. `Uploading Code`\n",
    "1. `Serial Communication`\n",
    "\n",
    "\n",
    "**<span style=\"color:red\">\n",
    "Now follow the given steps to connect your ambient light sensor circuit to the Launchpad.\n",
    "</span>**"
   ]
  },
  {
   "cell_type": "markdown",
   "metadata": {},
   "source": [
    "\n",
    "\n",
    "1. Use the USB cable (included in the Launchpad box) to connect the Launchpad to your computer. <br>\n",
    "1. Open **Energia** on your desktop\n",
    "1. Select **\"Tools > Board > MSP-EXP430F5529LP\"**.\n",
    "1. In Energia, select the right serial port via **\"Tools > Port > COM#\"**. If you're not sure, you can find the port through Device Manager following the instructions under the [Deciphering Ports section in the equipment guide](https://docs.google.com/document/u/3/d/e/2PACX-1vTVrGBDbRfVI0_LjSeTfw8doili8iS_E_9Fwdk2UShgf7WAgVVoHtyMOpjXadXwD45HNXUbb2ASF18H/pub#h.ulo2rtec2e00).\n",
    "1. Download the zipped [LightSensor](https://drive.google.com/drive/folders/1jIYMRCUrLPpz5oSwzlHBr-Pb6BEmoPRc?usp=sharing) folder to `Downloads` and unzip it.\n",
    "1. Open (**File > Open**) the file `LightSensor.ino`. <!--- The Launchpad requires that the \".ino\" source file be placed in a folder with the same name; e.x. LightSensor.ino should be found in **`..../LightSensor/LightSensor.ino`**. ---> This file has code to periodically read the voltage of the Launchpad's pin **`P6.0`** and send this data over a serial interface called UART to a computer.\n",
    "\n",
    "    - Click the **`Upload`** button (white circle with a right-pointing arrow). This should compile and upload code to the Launchpad.\n",
    "    - Reset the launchpad using the `RST` button (see picture below).\n",
    "\n",
    "1. We will now connect the Launchpad to the sensor circuit. Our goal is to use the Launchpad to replace both the Power Supply and Oscilloscope. \n",
    "\n",
    "    The Launchpad is capable of supplying the $3.3V$ necessary to power the circuit and can also read and send voltage values to our computer via Input / Output pins. Something to keep in mind that gives you flexibility in the future: the Launchpad has both Pin and Socket connections (Pin on the front side, Socket on the back). The schematic that you will build is shown below. Labels in purple indicate connections to the Launchpad.\n",
    "<br>\n",
    "<center>\n",
    "<img src=\"images/task2_schem.svg\" align=\"center\" style=\"height:200px\" />\n",
    "<figcaption>Task 3 Schematic</figcaption>\n",
    "</center>\n",
    "\n",
    "  <span style=\"color:red\"> * Disconnect and turn off the power supply. We won't be needing this anymore!\n",
    "    <br>\n",
    "  * Disconnect the oscilloscope probe. We won't be needing this either! </span>\n",
    "  <br>\n",
    "  \n",
    "  * Use a **Socket-to-Pin** jumper wire to connect the **$3.3 V$** pin on the front of the Launchpad (highlighted in green and labeled as 3V3) to any hole in the **<span style=\"color:red\">red (+) column</span>** on the breadboard; this is the same location the <span style=\"color:red\">positive (+)</span> power supply lead was connected to.\n",
    "  * Use a **Socket-to-Pin** jumper wire to connect the **GND** port (either one) on the front of the Launchpad (highlighted in blue) to any hole in the **<span style=\"color:blue\">blue (-) column </span>** on the breadboard; this is the same location that the <span style=\"color:black\">negative (-)</span> power supply lead was connected to.\n",
    "  * Use a **Socket-to-Pin** jumper wire to connect the output of the circuit (which was previously connected to the **<span style=\"color:gray\">gray clip</span>** of the oscilloscope probe) to pin **P6.0** on the front of the Launchpad (highlighted in yellow).\n",
    "<br/><br/>\n",
    "<center>\n",
    "<img src=\"images/task2_bb.svg\" align=\"center\" style=\"height:300px\" />\n",
    "<figcaption>Cartoon View: How the Circuit Components, Breadboard, and Launchpad Jumper Wires Should Be Hooked Up</figcaption>\n",
    "</center>\n",
    "<br>\n",
    "<center>\n",
    "<table>\n",
    "<tr>\n",
    "<td><center><img src=\"images/launchpad_pins.png\" align=\"center\" style=\"height:300px\" /><figcaption>Launchpad Front with Pins Labelled</figcaption></center></td>\n",
    "<td><center><img src=\"images/mspboard.jpg\" align=\"center\" style=\"height:300px\" /><figcaption>Actual Setup</figcaption></center></td>\n",
    "</tr>\n",
    "</table>\n",
    "</center>\n",
    "<br/><br/>\n",
    "\n",
    "1. Open up the Serial Monitor in Energia by going to **\"Tools > Serial Monitor\"** or use the shortcut (Ctrl+Shift+M). \n",
    "1. Select the Baud Rate `115200` in the bottom right corner. \n",
    "\n",
    "\n",
    "Once you have completed the steps above, you should be seeing a stream of numbers, with the third number in each row varying.  If the numbers do not appear correctly, try some of the following:\n",
    "\n",
    "1. Reset the launchpad using the `RST` button (see picture above), this is the most likely bug.\n",
    "2. Unplug and replug the Launchpad\n",
    "3. Double check that you selected the baud rate as 115200\n",
    "4. Double check your COM port is correct\n",
    "5. Ensure your sensor is plugged in the correct orientation (shorter leg in (+) rail)\n",
    "\n",
    "The serial monitor presents a textual display of the bytes being received from the Launchpad over a serial connection.\n",
    "\n",
    "<br/><br/>\n",
    "<center>\n",
    "<img src=\"images/com_oscilloscope.png\" align=\"center\" style=\"height:400px\" />\n",
    "</center>\n",
    "<br/>\n",
    "\n",
    "**<span style=\"color:red\">Try covering the ambient light sensor with your hand or shining a cell phone flashlight at it. What happens to the voltages on the serial monitor as the amount of ambient light changes? Do these voltages increase or decrease as the amount of ambient light increases? </span>** "
   ]
  },
  {
   "cell_type": "markdown",
   "metadata": {},
   "source": [
    "`YOUR ANSWER HERE`"
   ]
  },
  {
   "cell_type": "markdown",
   "metadata": {},
   "source": [
    "<a id='task4'></a>\n",
    "## <span style=\"color:blue\">Task 4: Virtual Oscilloscope</span>\n",
    "#### Materials & Equipment\n",
    "* **From the TA Desk**\n",
    "<br/><br/>\n",
    "<center>\n",
    "<table>\n",
    "<tr>\n",
    "<td width=\"180px\" style=\"border: 1px solid #000000;\"><center>1x Capacitor. It will most likely be yellow. Use the 0.1$\\mu$F capacitor (it says 104 on it).</center></td>\n",
    "</tr>\n",
    "<tr>\n",
    "<td style=\"border: 1px solid #000000;\"><img src=\"images/cap104.png\" style=\"width: 180px;\"/></td>\n",
    "</table>\n",
    "</center>\n",
    "<br>\n",
    "* **Other Supplies**\n",
    "\n",
    "  * 1x Setup from Task 3\n",
    "  \n",
    "<span style=\"color:red\"> **Now, close the Serial Monitor, and open the Serial Plotter. You can open the Serial Plotter in Tools -> Serial Plotter or use the keyboard shortcut (Ctrl + Shift + L).**</span>\n",
    "\n",
    "You should see a moving plot. This is the visual version of the oscilloscope. The vertical axis is in units of Volts, and the horizontal axis is in a general unit of time. **Try covering part of the ambient light sensor and see what happens to the plot.** You can also wave your hand above the sensor and see how it will respond.\n",
    "\n",
    "Note: There might be a slight delay associated with plotting values from the Launchpad on the Serial Plotter."
   ]
  },
  {
   "cell_type": "markdown",
   "metadata": {},
   "source": [
    "**Follow the steps below to add the capacitor to the circuit, per the schematic below.**\n",
    "<br><br>\n",
    "<center>\n",
    "<img src=\"images/task3_schem.svg\" align=\"center\" style=\"width:300px\" />\n",
    "<figcaption>Task 3 Schematic</figcaption>\n",
    "</center>\n",
    "\n",
    "1. Close the serial plotter.\n",
    "\n",
    "2. Move the pin ends of the 3V3 and P6.0 wires (that connect between the Launchpad and the breadboard) to 2 separate unused rows of the breadboard. Keep the socket ends connected to the Launchpad. The pin ends of the 3V3, and P6.0 wires should be away from the main circuit so we can modify it safely.\n",
    "\n",
    "3. Put one leg of the capacitor in the row that is shared between one leg of the ambient light sensor and one leg of the resistor. Be careful that the metal parts of the resistor, capacitor, and ambient light sensor don't touch!\n",
    "\n",
    "4. Put the other leg of the capacitor in any hole in the **<span style=\"color:blue\">blue (-) column</span>** of the breadboard; the other leg of the resistor is also in this column. If the leg can't reach, try rearranging your components or use another jumper wire. The resistor and capacitor are now connected in \"parallel\".\n",
    "\n",
    "5. Reconnect the jumper wires (3V3, P6.0) from the Launchpad in the same places as before. Your circuit should now resemble the pictures below (actual holes used may vary):\n",
    "<center>\n",
    "<img src=\"images/task3_bb.svg\" align=\"center\" style=\"height:400px\" />\n",
    "<figcaption>Cartoon View: How the Circuit Components, Breadboard, and Launchpad Jumper Wires Should Be Hooked Up</figcaption>\n",
    "</center>\n",
    "<br>\n",
    "<center>\n",
    "<img src=\"images/withcap.jpg\" align=\"center\" style=\"width:400px\" />\n",
    "<figcaption>Actual Setup</figcaption>\n",
    "</center>\n",
    "\n",
    "Open up the serial plotter again to see the virtual oscilloscope. **<span style=\"color:red\"> Did the capacitor make a difference? (Hint: The difference is subtle, but still noticeable. Putting the serial plotter in fullscreen may help.).</span> To really observe the effect of the capacitor, keep the Virtual Oscilloscope running and try to get the curve to hover around a non-max value. Then, repeatedly take the capacitor out of the breadboard and put it back in.**"
   ]
  },
  {
   "cell_type": "markdown",
   "metadata": {},
   "source": [
    "`YOUR ANSWER HERE` <br><br>"
   ]
  },
  {
   "cell_type": "markdown",
   "metadata": {},
   "source": [
    "## **<span style=\"color:red\"> Do not take apart your setup before being checked off. </span>**\n",
    "\n",
    "<a id='checkoff'></a>\n",
    "## Checkoff\n",
    "When you are ready to get checked off, fill out the checkoff google form. **[Checkoff Form](https://docs.google.com/forms/d/e/1FAIpQLSc6AEapc5xrVjHGzRgEdsHLcZBKVZ9aFR_TYMx00UNBFJ916g/viewform?usp=sf_link)**\n",
    "\n",
    "**Everyone must submit their own google form.** \n",
    "\n",
    "Your GSI or a Lab Assistant will join you when they are available and go through some checkoff questions with your group. They will go through the checkoff list in order. Please be patient!\n",
    "\n",
    "\n",
    "#### Post-checkoff Clean Up: (this applies to each week's lab)\n",
    "1. Pack away your launchpad and lab kit materials to bring home  - make a note to bring them back next week!\n",
    "2. Throw away any trash at your station\n",
    "3. Return the wires from the back walls\n",
    "4. SIGN OUT of the computers - DO NOT SHUT DOWN\n",
    "5. Check that other machines at your lab station are powered off\n"
   ]
  },
  {
   "cell_type": "markdown",
   "metadata": {},
   "source": [
    "<a id='extra'></a>\n",
    "## Additional Resources\n",
    "Congratulations, you can now record sensor data on a computer!\n",
    "There are all kinds of exciting things you can do with this setup. Once your sensor data is accessible in Python, you can use sensor input as a cue to send a text message or tweet, start or stop programs, and more! The possibilities are endless!\n",
    "\n",
    "If you're interested in applying what you've learned to your own personal projects, there are a variety of spaces on campus with additional resources to support these kinds of activities: \n",
    "* [Supernode (246 Cory Hall)](http://supernode.berkeley.edu)\n",
    "* [CITRIS Invention Lab (141 Sutardja Dai Hall)](http://invent.citris-uc.org)\n",
    "* [Jacobs Hall](https://jacobsinstitute.berkeley.edu/)"
   ]
  }
 ],
 "metadata": {
  "anaconda-cloud": {},
  "kernelspec": {
   "display_name": "Python 3",
   "language": "python",
   "name": "python3"
  },
  "language_info": {
   "codemirror_mode": {
    "name": "ipython",
    "version": 3
   },
   "file_extension": ".py",
   "mimetype": "text/x-python",
   "name": "python",
   "nbconvert_exporter": "python",
   "pygments_lexer": "ipython3",
   "version": "3.8.5"
  }
 },
 "nbformat": 4,
 "nbformat_minor": 1
}
